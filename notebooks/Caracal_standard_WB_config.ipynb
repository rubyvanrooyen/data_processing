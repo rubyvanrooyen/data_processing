{
  "nbformat": 4,
  "nbformat_minor": 0,
  "metadata": {
    "colab": {
      "name": "Caracal standard WB config.ipynb",
      "provenance": [],
      "authorship_tag": "ABX9TyPHA0+UeyqFQlTAE73eHCt/",
      "include_colab_link": true
    },
    "kernelspec": {
      "name": "python3",
      "display_name": "Python 3"
    },
    "language_info": {
      "name": "python"
    }
  },
  "cells": [
    {
      "cell_type": "markdown",
      "metadata": {
        "id": "view-in-github",
        "colab_type": "text"
      },
      "source": [
        "<a href=\"https://colab.research.google.com/github/rubyvanrooyen/katcomm/blob/master/Users/ruby/oh_masers/G330/Caracal_standard_WB_config.ipynb\" target=\"_parent\"><img src=\"https://colab.research.google.com/assets/colab-badge.svg\" alt=\"Open In Colab\"/></a>"
      ]
    },
    {
      "cell_type": "markdown",
      "metadata": {
        "id": "Ce5PL5cAn8JV"
      },
      "source": [
        "# Update libraries\n",
        "\n",
        "For Python 3.7+, dicts preserve insertion order. Since PyYAML 5.1.x, you can disable the sorting of keys.    \n",
        "Unfortunately, the sorting keys behaviour does still default to `True`."
      ]
    },
    {
      "cell_type": "code",
      "metadata": {
        "colab": {
          "base_uri": "https://localhost:8080/",
          "height": 35
        },
        "id": "hPwe5X2enfer",
        "outputId": "33b4fcac-c569-4ae4-d2c0-54aff6c6768c"
      },
      "source": [
        "import yaml\n",
        "yaml.__version__"
      ],
      "execution_count": 1,
      "outputs": [
        {
          "output_type": "execute_result",
          "data": {
            "application/vnd.google.colaboratory.intrinsic+json": {
              "type": "string"
            },
            "text/plain": [
              "'3.13'"
            ]
          },
          "metadata": {
            "tags": []
          },
          "execution_count": 1
        }
      ]
    },
    {
      "cell_type": "markdown",
      "metadata": {
        "id": "HoqTLamRqlRt"
      },
      "source": [
        "If version <`5.1.x`"
      ]
    },
    {
      "cell_type": "code",
      "metadata": {
        "colab": {
          "base_uri": "https://localhost:8080/"
        },
        "id": "iiYV32XlnkkD",
        "outputId": "691ced31-bee7-4d71-8b46-dcdc7821f2ab"
      },
      "source": [
        "!pip install pip --upgrade"
      ],
      "execution_count": 2,
      "outputs": [
        {
          "output_type": "stream",
          "text": [
            "Requirement already satisfied: pip in /usr/local/lib/python3.7/dist-packages (21.1.3)\n",
            "Collecting pip\n",
            "  Downloading pip-21.2.2-py3-none-any.whl (1.6 MB)\n",
            "\u001b[K     |████████████████████████████████| 1.6 MB 7.6 MB/s \n",
            "\u001b[?25hInstalling collected packages: pip\n",
            "  Attempting uninstall: pip\n",
            "    Found existing installation: pip 21.1.3\n",
            "    Uninstalling pip-21.1.3:\n",
            "      Successfully uninstalled pip-21.1.3\n",
            "Successfully installed pip-21.2.2\n"
          ],
          "name": "stdout"
        }
      ]
    },
    {
      "cell_type": "code",
      "metadata": {
        "colab": {
          "base_uri": "https://localhost:8080/",
          "height": 310
        },
        "id": "NBCxPcxgnsJy",
        "outputId": "87c69ac8-cd44-480b-aa32-453885652a6c"
      },
      "source": [
        "!pip install pyyaml --upgrade"
      ],
      "execution_count": 3,
      "outputs": [
        {
          "output_type": "stream",
          "text": [
            "Requirement already satisfied: pyyaml in /usr/local/lib/python3.7/dist-packages (3.13)\n",
            "Collecting pyyaml\n",
            "  Downloading PyYAML-5.4.1-cp37-cp37m-manylinux1_x86_64.whl (636 kB)\n",
            "\u001b[K     |████████████████████████████████| 636 kB 9.0 MB/s \n",
            "\u001b[?25hInstalling collected packages: pyyaml\n",
            "  Attempting uninstall: pyyaml\n",
            "    Found existing installation: PyYAML 3.13\n",
            "    Uninstalling PyYAML-3.13:\n",
            "      Successfully uninstalled PyYAML-3.13\n",
            "Successfully installed pyyaml-5.4.1\n",
            "\u001b[33mWARNING: Running pip as the 'root' user can result in broken permissions and conflicting behaviour with the system package manager. It is recommended to use a virtual environment instead: https://pip.pypa.io/warnings/venv\u001b[0m\n"
          ],
          "name": "stdout"
        },
        {
          "output_type": "display_data",
          "data": {
            "application/vnd.colab-display-data+json": {
              "pip_warning": {
                "packages": [
                  "yaml"
                ]
              }
            }
          },
          "metadata": {
            "tags": []
          }
        }
      ]
    },
    {
      "cell_type": "code",
      "metadata": {
        "colab": {
          "base_uri": "https://localhost:8080/",
          "height": 35
        },
        "id": "N8KG5d6rn1-D",
        "outputId": "d2f4557e-85fb-4756-a5ff-38249cb912d2"
      },
      "source": [
        "import yaml\n",
        "yaml.__version__"
      ],
      "execution_count": 1,
      "outputs": [
        {
          "output_type": "execute_result",
          "data": {
            "application/vnd.google.colaboratory.intrinsic+json": {
              "type": "string"
            },
            "text/plain": [
              "'5.4.1'"
            ]
          },
          "metadata": {
            "tags": []
          },
          "execution_count": 1
        }
      ]
    },
    {
      "cell_type": "markdown",
      "metadata": {
        "id": "gsjuWYu0pwgL"
      },
      "source": [
        "# G330 input\n",
        "```\n",
        "Targets: 3 selected out of 3 in catalogue\n",
        "  ID  Name          Type      RA(J2000)     DEC(J2000)  Tags\n",
        "   0  J1939-6342    radec     19:39:25.03  -63:42:45.6  fluxcal bpcal delaycal \n",
        "   1  G330.89-0.36  radec     16:10:20.54  -52:06:14.9  target  \n",
        "   2  J1726-5529    radec     17:26:49.63  -55:29:40.5  gaincal\n",
        "```"
      ]
    },
    {
      "cell_type": "code",
      "metadata": {
        "id": "SBKfWKCZg7ou"
      },
      "source": [
        "import os\n",
        "\n",
        "msfile = '1625501775_sdp_l0.ms'\n",
        "name = 'G330.89-0.36'\n",
        "prefix, _ = os.path.splitext(msfile)\n",
        "\n",
        "config = f'config-{prefix}-4k.yml'\n",
        "output = f'output-{prefix}-4k'\n",
        "\n",
        "b_cal = 'J1939-6342'\n",
        "f_cal = 'J1939-6342'\n",
        "g_cal = 'J1726-5529'\n",
        "target = 'G330.89-0.36'\n",
        "\n",
        "ref_ant = ''\n",
        "ref_chan = ''"
      ],
      "execution_count": 15,
      "outputs": []
    },
    {
      "cell_type": "markdown",
      "metadata": {
        "id": "ulI-euqB3q2n"
      },
      "source": [
        "# Stimela workers\n",
        "Construct skeleton stimela workers"
      ]
    },
    {
      "cell_type": "markdown",
      "metadata": {
        "id": "XefzbokhfuEH"
      },
      "source": [
        "### Compulsary workers\n",
        "* `general`\n",
        "Compulsory worker to set up data/input/output directories.\n",
        "* `getdata`\n",
        "Compulsory worker to specify the input .MS files.\n",
        "* `obsconf`\n",
        "Compulsory worker to set up target/calibrators names."
      ]
    },
    {
      "cell_type": "code",
      "metadata": {
        "id": "sf19iQ-wgLjR"
      },
      "source": [
        "# The prefix used for the output data products (e.g., diagnostic plots, images, etc.).\n",
        "worker_general = {'title': name,\n",
        "                  'prefix': prefix,\n",
        "                  'rawdatadir': 'data',\n",
        "                  'output': output,\n",
        "                  }"
      ],
      "execution_count": 16,
      "outputs": []
    },
    {
      "cell_type": "code",
      "metadata": {
        "id": "_pdHeHWayu8O"
      },
      "source": [
        "worker_getdata = {'dataid': f'[{os.path.splitext(msfile)[0]}]',\n",
        "                  'extension': 'ms',\n",
        "                  }"
      ],
      "execution_count": 17,
      "outputs": []
    },
    {
      "cell_type": "code",
      "metadata": {
        "id": "jjfzG_qqz_oI"
      },
      "source": [
        "worker_obsconf = {'refant': ref_and if ref_ant else 'auto',\n",
        "                  }"
      ],
      "execution_count": 18,
      "outputs": []
    },
    {
      "cell_type": "markdown",
      "metadata": {
        "id": "9_7H7hlHAKKK"
      },
      "source": [
        "### Calibrators\n",
        "* `transform`\n",
        "Split calibrators-only .MS files, one per input .MS file.\n",
        "* `prep`\n",
        "Prepare the calibrators-only .MS files for processing.\n",
        "* `flag`\n",
        "Flag the calibrators-only .MS files.\n",
        "* `crosscal`\n",
        "Derive the cross-calibration tables and apply them to the calibrators.\n",
        "* `inspect`\n",
        "Inspect the calibrated calibrator’s visibilities to check the quality of the\n",
        "cross-calibration."
      ]
    },
    {
      "cell_type": "code",
      "metadata": {
        "id": "eaPuJI1KDR1M"
      },
      "source": [
        "# This worker splits the calibrators (in preparation for cross-calibration) or the targets (in\n",
        "# preparation for imaging) to new .MS files. Time and frequency averaging is available, as well as\n",
        "# phase rotation to a new phase centre. Crosscalibration can be applied on the fly while splitting.\n",
        "\n",
        "# https://caracal.readthedocs.io/en/latest/manual/workers/transform/index.html#split-field\n",
        "split_field = {'enable': \"true\",\n",
        "               'col': 'data',\n",
        "               }\n",
        "# https://caracal.readthedocs.io/en/latest/manual/workers/transform/index.html#\n",
        "worker_transform__calibrators = {'enable': 'true',\n",
        "                                 'label_out': 'cal',\n",
        "                                 'field': 'calibrators',\n",
        "                                 'split_field': split_field,\n",
        "                                 }"
      ],
      "execution_count": 19,
      "outputs": []
    },
    {
      "cell_type": "code",
      "metadata": {
        "id": "_pZsX4EvbjEv"
      },
      "source": [
        "# https://caracal.readthedocs.io/en/latest/manual/workers/prep/index.html#specweights\n",
        "specweights = {'enable': 'true',\n",
        "               'mode': 'uniform',\n",
        "               }\n",
        "# https://caracal.readthedocs.io/en/latest/manual/workers/prep/index.html\n",
        "worker_prep__calibrators = {'enable': 'true',\n",
        "                            'label_in': 'cal',\n",
        "                            'field': 'calibrators',\n",
        "                            'specweights': specweights,\n",
        "                            }"
      ],
      "execution_count": 20,
      "outputs": []
    },
    {
      "cell_type": "markdown",
      "metadata": {
        "id": "5vj1qtnTKY_8"
      },
      "source": [
        "#### Flagging\n",
        "\n",
        "Standard flags to apply to all data sets\n"
      ]
    },
    {
      "cell_type": "code",
      "metadata": {
        "id": "ppMncze4ifu2"
      },
      "source": [
        "flag_elevation = {'enable': 'true',\n",
        "                  'low': '15',\n",
        "                  'high': '90',\n",
        "                  }\n",
        "flag_spw = {'enable': 'true',\n",
        "            'chans': '*:856~880MHz , *:1658~1800MHz, *:1419.8~1421.3MHz',\n",
        "            'ensure_valid': 'false',\n",
        "            }\n",
        "\n",
        "# GSM and Aviation\n",
        "# *:900MHz~915MHZ,*:925MHz~960MHZ,\n",
        "# Satellites\n",
        "# *:1080MHz~1095MHZ,*:1166MHz~1186MHZ,*:1191MHz~1237MHZ,*:1242MHz~1249MHZ,*:1260MHz~1300MHZ,*:1375MHz~1387MHZ,\n",
        "# *:1526MHz~1554MHZ,*:1565MHz~1585MHZ,*:1592MHz~1610MHZ,*:1616MHz~1626MHZ,\n",
        "flag_mask = {'enable': 'true',\n",
        "             'mask': 'meerkat.rfimask.npy',  # np.load('caracal/data/meerkat_files/meerkat.rfimask.npy')\n",
        "             'uvrange': '0~1000',\n",
        "             }\n",
        "\n",
        "# https://caracal.readthedocs.io/en/latest/manual/workers/flag/index.html#\n",
        "worker_flag__calibrators = {'enable': 'true',\n",
        "                            'label_in': 'cal',\n",
        "                            'field': 'calibrators',\n",
        "                            # flag auto-correlations\n",
        "                            'flag_autocorr': {'enable': 'true'},\n",
        "                            # remove any antennas shadowing each other\n",
        "                            'flag_shadow': {'enable': 'true'},\n",
        "                            # remove points below minimum pointing angle of observation\n",
        "                            'flag_elevation': flag_elevation,\n",
        "                            # flag bandpass edges and the Milky Way\n",
        "                            'flag_spw': flag_spw,\n",
        "                            # GSM, aviation and satellites\n",
        "                            'flag_mask': flag_mask,\n",
        "                            }"
      ],
      "execution_count": 21,
      "outputs": []
    },
    {
      "cell_type": "markdown",
      "metadata": {
        "id": "xnvGKblNn19s"
      },
      "source": [
        "Flag RFI using AOFlagger, Tricolour, or CASA FLAGDATA with tfcrop."
      ]
    },
    {
      "cell_type": "code",
      "metadata": {
        "id": "3NSMSEFTnrnl"
      },
      "source": [
        "# https://caracal.readthedocs.io/en/latest/manual/workers/flag/index.html#flag-rfi\n",
        "worker_flag__rfi = {'enable': 'true',\n",
        "                    'field': 'calibrators',\n",
        "                    'label_in': 'cal',\n",
        "                    'flag_rfi': {'enable': 'true',\n",
        "                                 'flagger': 'tricolour',\n",
        "                                 'tricolour': {'strategy': 'khruschev.yaml'},\n",
        "                                 }\n",
        "                    }"
      ],
      "execution_count": 22,
      "outputs": []
    },
    {
      "cell_type": "markdown",
      "metadata": {
        "id": "yeDDuNa7XRvI"
      },
      "source": [
        "Data for manual flagging can be identified either using CASA or shadeMS (WIP)\n",
        "* CASA: https://github.com/rubyvanrooyen/katcomm/blob/master/Users/ruby/oh_masers/G330/G330_CASA_data_inspection_commands.ipynb\n",
        "* shadeMS: <link to notebook>"
      ]
    },
    {
      "cell_type": "code",
      "metadata": {
        "id": "uLo5ycJUXRJC"
      },
      "source": [
        "flag_spw = {'enable': 'true',\n",
        "            'chans': '*:*:1.1421GHz~1.16592GHZ,*:1.1862GHz~1.25997GHZ,*:1.52057GHz~1.59185GHZ,*:1.62632GHz',\n",
        "            'ensure_valid': 'false',\n",
        "            }\n",
        "\n",
        "#flag_manual = {'enable': 'true',\n",
        "#               'rules': \n",
        "#               }\n",
        "##   flag_manual:\n",
        "##     enable: true\n",
        "##     rules:\n",
        "##       - '1557* antenna:m007'\n",
        "##      - '1557* scan:49'\n",
        "##      - '1568* antenna:m024;m036'\n",
        "##      - '1568* scan:35 uvrange:1000~9000'\n",
        "\n",
        "worker_flag__manual = {'enable': 'true',\n",
        "                       'label_in': 'cal',\n",
        "                       'field': 'calibrators',\n",
        "                       # flag out manually identified RFI channels\n",
        "                       'flag_spw': flag_spw,\n",
        "                       }"
      ],
      "execution_count": 23,
      "outputs": []
    },
    {
      "cell_type": "markdown",
      "metadata": {
        "id": "A-L4r2jW4chj"
      },
      "source": [
        "#### Inspect\n",
        "Quick view of data after flagging\n"
      ]
    },
    {
      "cell_type": "code",
      "metadata": {
        "id": "mGGz-8kd7TiX"
      },
      "source": [
        "worker_inspect = {enable: true,\n",
        "                  label_in: 'cal',\n",
        "                  field: 'calibrators',\n",
        "                  label_plot: 'flags',\n",
        "                  dirname: flag,\n",
        "                  correlation: all,\n",
        "                  standard_plotter: none,\n",
        "\n",
        "  shadems = {enable: true,\n",
        "             default_column: DATA,\n",
        "             plots:\n",
        "      # per-antenna plots\n",
        "      - iter_ant:\n",
        "        desc: \"plots by antenna\",\n",
        "        cmap: pride,\n",
        "        corr: XX,YY,\n",
        "        plots:\n",
        "          - '-x CHAN -y amp -c CORR --field {bpcal} --dir bpcal-iamp-byant-{msbase}'\n",
        "    ignore_errors: true"
      ],
      "execution_count": null,
      "outputs": []
    },
    {
      "cell_type": "code",
      "metadata": {
        "id": "bb1rB0Ya4kax"
      },
      "source": [
        "# https://caracal.readthedocs.io/en/latest/manual/workers/inspect/index.html\n",
        "inspect:\n",
        "  enable: true\n",
        "  label_in: 'cal'\n",
        "  field: 'calibrators'\n",
        "  label_plot: 'flags'\n",
        "  dirname: flag\n",
        "  correlation: all\n",
        "  standard_plotter: none\n",
        "  shadems:\n",
        "    enable: true\n",
        "    default_column: DATA\n",
        "    plots:\n",
        "      # per-antenna plots\n",
        "      - iter_ant:\n",
        "        desc: \"plots by antenna\"\n",
        "        cmap: pride\n",
        "        corr: XX,YY\n",
        "        plots:\n",
        "          - '-x CHAN -y amp -c CORR --field {bpcal} --dir bpcal-iamp-byant-{msbase}'\n",
        "    ignore_errors: true\n"
      ],
      "execution_count": null,
      "outputs": []
    },
    {
      "cell_type": "markdown",
      "metadata": {
        "id": "7P4mJjctUWth"
      },
      "source": [
        "# Recommended workflow\n",
        "\n",
        "https://caracal.readthedocs.io/en/latest/manual/reduction/workflow/index.html"
      ]
    },
    {
      "cell_type": "markdown",
      "metadata": {
        "id": "JusLk1rNUXA3"
      },
      "source": [
        "```\n",
        "$ caracal --version\n",
        "caracal version 1.0.4\n",
        "```"
      ]
    },
    {
      "cell_type": "code",
      "metadata": {
        "id": "g0LlVghKUXZp"
      },
      "source": [
        "std_caracal_dict = {'schema_version': '1.0.4',\n",
        "                    # Compulsory workers\n",
        "                    'general': worker_general,\n",
        "                    'getdata': worker_getdata,\n",
        "                    'obsconf': worker_obsconf,\n",
        "                    # Calibration\n",
        "                    'transform__calibrators': worker_transform__calibrators,\n",
        "                    'prep__calibrators': worker_prep__calibrators,\n",
        "                    'flag__calibrators': worker_flag__calibrators,\n",
        "                    'flag__rfi': worker_flag__rfi,\n",
        "                    'flag__manual': worker_flag__manual,\n",
        "                    }\n",
        "# print(std_caracal_dict)"
      ],
      "execution_count": 24,
      "outputs": []
    },
    {
      "cell_type": "code",
      "metadata": {
        "colab": {
          "base_uri": "https://localhost:8080/"
        },
        "id": "HD_gSpdzMFAT",
        "outputId": "006bf011-02c4-4a2d-be41-d51590dc205f"
      },
      "source": [
        "import yaml\n",
        "\n",
        "with open(config, 'w') as outfile:\n",
        "    yaml.dump(std_caracal_dict, outfile, default_flow_style=False, sort_keys=False, default_style=None)\n",
        "\n",
        "print(f'created file {config}')"
      ],
      "execution_count": 25,
      "outputs": [
        {
          "output_type": "stream",
          "text": [
            "created file config-1625501775_sdp_l0-4k.yml\n"
          ],
          "name": "stdout"
        }
      ]
    },
    {
      "cell_type": "code",
      "metadata": {
        "id": "FPAVvc7vab5r"
      },
      "source": [
        "!sed \"s/'//g\" config-1625501775_sdp_l0-4k.yml > tmpfile.yaml\n",
        "!mv tmpfile.yaml config-1625501775_sdp_l0-4k.yml"
      ],
      "execution_count": 26,
      "outputs": []
    },
    {
      "cell_type": "code",
      "metadata": {
        "id": "jt-m_Aw3gXwl"
      },
      "source": [
        ""
      ],
      "execution_count": 26,
      "outputs": []
    },
    {
      "cell_type": "markdown",
      "metadata": {
        "id": "AbMp2EnTzz84"
      },
      "source": [
        ""
      ]
    },
    {
      "cell_type": "code",
      "metadata": {
        "id": "rxfsjJbszzbZ"
      },
      "source": [
        ""
      ],
      "execution_count": 26,
      "outputs": []
    },
    {
      "cell_type": "code",
      "metadata": {
        "id": "ov0L_n6UzzXM"
      },
      "source": [
        ""
      ],
      "execution_count": 26,
      "outputs": []
    },
    {
      "cell_type": "code",
      "metadata": {
        "id": "BnAbv2wkzzS-"
      },
      "source": [
        ""
      ],
      "execution_count": 26,
      "outputs": []
    },
    {
      "cell_type": "code",
      "metadata": {
        "id": "NIKMkfHUzzPc"
      },
      "source": [
        ""
      ],
      "execution_count": 26,
      "outputs": []
    },
    {
      "cell_type": "code",
      "metadata": {
        "colab": {
          "base_uri": "https://localhost:8080/",
          "height": 130
        },
        "id": "EC3SzU3cAOr2",
        "outputId": "4d70ce8d-d9bd-44e1-d7b0-07e40c5d8348"
      },
      "source": [
        "\n",
        "\n",
        "\n",
        "# Derive the cross-calibration tables and apply them to the calibrators.\n",
        "# Carry out Cross calibration of the data (delay, bandpass and gain calibration).\n",
        "crosscal:\n",
        "  enable: true\n",
        "  uvrange: '>150'\n",
        "  label_in: 'cal'\n",
        "  label_cal: '1gc1'\n",
        "  set_model:\n",
        "    enable: true\n",
        "    meerkat_skymodel: false\n",
        "  primary:\n",
        "    reuse_existing_gains: true\n",
        "    order: KGBAKGB\n",
        "    combine: [\"\", \"\", \"\", null, \"\", \"\", \"\"]\n",
        "    solint: [inf, inf, inf, null, int, int, inf]\n",
        "    calmode: [a, ap, ap, null, a, ap, ap]\n",
        "    b_fillgaps: 70\n",
        "    plotgains: true\n",
        "  secondary:\n",
        "    reuse_existing_gains: true\n",
        "    order: KGAKF\n",
        "    apply: B\n",
        "    combine: [\"\", \"\", null, \"\", \"\"]\n",
        "    solint: [inf, inf, null, 60s, 60s]\n",
        "    calmode: [a, ap, null, a, ap]\n",
        "    plotgains: true\n",
        "  apply_cal:\n",
        "    applyto:\n",
        "      - gcal\n",
        "      - bpcal\n",
        "\n",
        "# This worker plot the visibilities for diagnostic purpose.\n",
        "# Inspect the calibrated calibrator’s visibilities to check the quality of the\n",
        "# cross-calibration.\n",
        "inspect:\n",
        "  enable: true\n",
        "  label_in: 'cal'\n",
        "  field: 'calibrators'\n",
        "  label_plot: '1gc'\n",
        "  dirname: crosscal\n",
        "  correlation: all\n",
        "  standard_plotter: none # ragavi_vis\n",
        "  shadems:\n",
        "    enable: true\n",
        "    default_column: CORRECTED_DATA\n",
        "    plots:\n",
        "      - desc: \"plots by field\"\n",
        "        field: \"{all_fields}\"\n",
        "        cnum: 100  # up 100 colours\n",
        "        iter_field: true\n",
        "        plots:\n",
        "          # phaseball plots\n",
        "          - dir: \"phaseballs-{msbase}\"\n",
        "            plots:\n",
        "              - \"-x real -y imag -c CORR --corr IQUV --hline 0: --vline 0:\"\n",
        "              - \"-x real -y imag -c SCAN_NUMBER\"\n",
        "              - \"-x real -y imag -c ANTENNA1\"\n",
        "          - dir: \"phaseballs-bycorr-{msbase}\"\n",
        "            iter_corr:\n",
        "            plots:\n",
        "              - \"-x real -y imag -c SCAN_NUMBER\"\n",
        "              - \"-x real -y imag -c ANTENNA1\"\n",
        "          # normalized phaseballs\n",
        "          - dir: \"normballs-{msbase}\"\n",
        "            col: \"CORRECTED_DATA/MODEL_DATA\"\n",
        "            corr: \"XX,YY\"\n",
        "            iter_corr:\n",
        "            plots:\n",
        "              - \"-x real -y imag -c SCAN_NUMBER\"\n",
        "              - \"-x real -y imag -c ANTENNA1\"\n",
        "          # block and triangle plots\n",
        "          - dir: \"blockplots-{msbase}\"\n",
        "            plots:\n",
        "              - \"-x BASELINE_M -y FREQ -c amp\"\n",
        "              - \"-x ANTENNA1 -y ANTENNA2 -c SCAN_NUMBER --aaxis phase --ared std\"\n",
        "              - \"-x ANTENNA1 -y ANTENNA2 -c SCAN_NUMBER --aaxis amp --ared mean\"\n",
        "          # amp/phase versus uv-distance, and uv-coverage coloured by amp/phase\n",
        "          - dir: \"uvdist-{msbase}\"\n",
        "            plots:\n",
        "              - \"-x UV -y amp    -c SCAN_NUMBER\"\n",
        "              - \"-x UV -y amp    -c ANTENNA1\"\n",
        "              - \"-x UV -y phase  -c ANTENNA1 --corr XX,YY\"\n",
        "              - \"-x U  -y V      -c amp\"\n",
        "              - \"-x U  -y V      -c phase --cmin -5 --cmax 5\"\n",
        "          # spectral plots\n",
        "          - dir: \"spectra-{msbase}\"\n",
        "            plots:\n",
        "              - \"-x FREQ  -y amp  -c SCAN_NUMBER\"\n",
        "              - \"-x FREQ  -y amp  -c ANTENNA1\"\n",
        "              - \"-x FREQ  -y real -c CORR --corr IQUV --hline 0:\"\n",
        "      # per-antenna plots\n",
        "      - iter_ant:\n",
        "        desc: \"plots by antenna\"\n",
        "        cmap: pride\n",
        "        corr: XX,YY\n",
        "        plots:\n",
        "          - '-x FREQ -y amp:I -c SCAN_NUMBER --cnum 100 --cmin 0 --cmax 30 --field {bpcal} --dir bpcal-iamp-byant-{msbase}'\n",
        "          - '-x FREQ -y SCAN_NUMBER -a amp --ared std --dir stdamp-byant-{msbase}'\n",
        "          - '-x FREQ -y SCAN_NUMBER -a phase --ared std --dir stdphase-byant-{msbase}'\n",
        "      # per-scan plots\n",
        "      - iter_scan:\n",
        "        desc: \"plots by scan\"\n",
        "        cmap: pride\n",
        "        ared: std\n",
        "        corr: XX,YY\n",
        "        plots:\n",
        "          - '-x ANTENNA1 -y ANTENNA2 -a amp --dir stdamp-byscan-{msbase}'\n",
        "          - '-x ANTENNA1 -y ANTENNA2 -a phase --dir stdphase-byscan-{msbase}'\n",
        "          - '-x BASELINE_M -y FREQ -a imag --amin 0 --amax 2 --dir stdimag-byscan-{msbase}'\n",
        "    ignore_errors: true\n"
      ],
      "execution_count": 27,
      "outputs": [
        {
          "output_type": "error",
          "ename": "SyntaxError",
          "evalue": "ignored",
          "traceback": [
            "\u001b[0;36m  File \u001b[0;32m\"<ipython-input-27-c6510d8c3d2d>\"\u001b[0;36m, line \u001b[0;32m6\u001b[0m\n\u001b[0;31m    crosscal:\u001b[0m\n\u001b[0m             ^\u001b[0m\n\u001b[0;31mSyntaxError\u001b[0m\u001b[0;31m:\u001b[0m invalid syntax\n"
          ]
        }
      ]
    },
    {
      "cell_type": "markdown",
      "metadata": {
        "id": "WkuwcdExArup"
      },
      "source": [
        "## Targets"
      ]
    },
    {
      "cell_type": "code",
      "metadata": {
        "id": "fbEEJ1s1At8c"
      },
      "source": [
        "# Split target-only .MS files, one per input .MS file and target, applying the\n",
        "# cross-calibration on the fly.\n",
        "transform__target:\n",
        "  enable: true\n",
        "  label_out: &CORR corr\n",
        "  split_field:\n",
        "    enable: true\n",
        "    chan_avg: 4\n",
        "    otfcal:\n",
        "      enable: true\n",
        "      label_cal: '1gc1'\n",
        "      interpolation:\n",
        "        delay_cal: nearest\n",
        "        gain_cal: linear\n"
      ],
      "execution_count": null,
      "outputs": []
    },
    {
      "cell_type": "markdown",
      "metadata": {
        "id": "Ml-f2KoQAJQk"
      },
      "source": [
        ""
      ]
    },
    {
      "cell_type": "code",
      "metadata": {
        "id": "5VZkVLJLUXjl"
      },
      "source": [
        "\n",
        "\n",
        "\n",
        "\n",
        "\n",
        "# Prepare the target-only .MS files for processing.\n",
        "prep__target:\n",
        "  enable: true\n",
        "  label_in: *CORR\n",
        "  field: target\n",
        "  specweights:\n",
        "    enable: true\n",
        "    mode: uniform\n",
        "\n",
        "# Flag the target-only .MS files.\n",
        "flag__target:\n",
        "  enable: true\n",
        "  field: target\n",
        "  label_in: *CORR\n",
        "  flag_spw:\n",
        "    enable: true\n",
        "    chans: '*:856~880MHz , *:1658~1800MHz, *:1419.8~1421.3MHz'\n",
        "#    chans: '*:856~940MHz, *:1180~1300MHz, *:1658~1800MHz, *:1419.8~1421.3MHz'\n",
        "    ensure_valid: false\n",
        "  flag_mask:\n",
        "    enable: true\n",
        "    mask: meerkat.rfimask.npy\n",
        "    uvrange: '0~1000'\n",
        "#   flag_manual:\n",
        "#     enable: true\n",
        "#     rules:\n",
        "#       - '1557* antenna:m007'\n",
        "#       - '1568* antenna:m024;m036'\n",
        "  inspect:\n",
        "    enable: false\n",
        "    field: target\n",
        "\n",
        "flag__target_rfi:\n",
        "  enable: true\n",
        "  field: target\n",
        "  label_in: *CORR\n",
        "  flag_rfi:\n",
        "    enable: true\n",
        "    flagger: tricolour\n",
        "    tricolour:\n",
        "      strategy: khruschev.yaml\n",
        "\n",
        "# This worker creates an a-priori clean mask based on NVSS or SUMSS, to be used during the continuum\n",
        "# imaging/self-calibration loop.\n",
        "mask:\n",
        "  enable: false\n",
        "\n",
        "# This worker performs continuum imaging and standard (i.e., direction-independent) self-calibration.\n",
        "# Make a continuum image of each target, self-calibrate, and transfer both gains\n",
        "# and continuum model to the full-frequency-resolution target-only .MS files.\n",
        "selfcal:\n",
        "  enable: true\n",
        "  img_npix: 10000\n",
        "  img_cell: 0.8\n",
        "  img_nchans: 8\n",
        "  img_multiscale: false\n",
        "  img_niter: 100000\n",
        "  img_specfit_nrcoeff: 4\n",
        "  cal_timeslots_chunk: 12\n",
        "  image:\n",
        "    enable: true\n",
        "  calibrate:\n",
        "    enable: true\n",
        "    gsols_timeslots: [4]\n",
        "    gsols_chan: [256]\n",
        "    gain_matrix_type: [GainDiagPhase, GainDiagPhase]\n",
        "  cal_cubical:\n",
        "    dist_max_chunks: 12\n",
        "  transfer_model:\n",
        "    enable: false\n",
        "\n",
        "# Perform direction-dependent calibration on the data\n",
        "ddcal:\n",
        "  enable: false\n",
        "  label_in: 'corr'\n",
        "  use_pb: true\n",
        "  calibrate_dd:\n",
        "    enable: True\n",
        "    de_sources_mode: manual\n",
        "  copy_data:\n",
        "    enable: true\n",
        "  image_wsclean:\n",
        "    enable: true\n",
        "  transfer_model_dd:\n",
        "    enable: true\n",
        "\n",
        "\n",
        "# -fin-\n"
      ],
      "execution_count": null,
      "outputs": []
    },
    {
      "cell_type": "code",
      "metadata": {
        "id": "7mxXqpnKxNXh"
      },
      "source": [
        ""
      ],
      "execution_count": null,
      "outputs": []
    },
    {
      "cell_type": "code",
      "metadata": {
        "id": "CzDOrgIjxNFw"
      },
      "source": [
        ""
      ],
      "execution_count": null,
      "outputs": []
    },
    {
      "cell_type": "code",
      "metadata": {
        "id": "GAdLI737xM6h"
      },
      "source": [
        ""
      ],
      "execution_count": null,
      "outputs": []
    },
    {
      "cell_type": "code",
      "metadata": {
        "id": "0E_hOYheLoKf"
      },
      "source": [
        ""
      ],
      "execution_count": null,
      "outputs": []
    }
  ]
}