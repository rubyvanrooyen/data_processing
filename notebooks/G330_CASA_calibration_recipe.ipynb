{
  "nbformat": 4,
  "nbformat_minor": 0,
  "metadata": {
    "colab": {
      "name": "G330 CASA calibration recipe.ipynb",
      "provenance": [],
      "collapsed_sections": [],
      "toc_visible": true,
      "authorship_tag": "ABX9TyOswFfk/xiI5TVUx8WZj1rs",
      "include_colab_link": true
    },
    "kernelspec": {
      "name": "python3",
      "display_name": "Python 3"
    },
    "language_info": {
      "name": "python"
    }
  },
  "cells": [
    {
      "cell_type": "markdown",
      "metadata": {
        "id": "view-in-github",
        "colab_type": "text"
      },
      "source": [
        "<a href=\"https://colab.research.google.com/github/rubyvanrooyen/katcomm/blob/master/Users/ruby/oh_masers/G330/G330_CASA_calibration_recipe.ipynb\" target=\"_parent\"><img src=\"https://colab.research.google.com/assets/colab-badge.svg\" alt=\"Open In Colab\"/></a>"
      ]
    },
    {
      "cell_type": "markdown",
      "metadata": {
        "id": "Vj9HToWFc59E"
      },
      "source": [
        "# Calibration strategy\n",
        "\n",
        "* Set flux on primary calibrator\n",
        "* Delay calibration\n",
        "* Bandpass calibration stablised with phase calibration\n",
        "* Complex gain calibration using flux calibrator\n",
        "* Complex gain calibration of other primary calibrators\n",
        "* Complex gain calibration of secondary calibrators\n"
      ]
    },
    {
      "cell_type": "markdown",
      "metadata": {
        "id": "ii_wCECzzTHJ"
      },
      "source": [
        "Start data inspection on primary calibrator, make note of suitably flat channel range to use for preliminary gain calibration prior to bandpass calibration. Confirm reference antenna looks ok"
      ]
    },
    {
      "cell_type": "code",
      "metadata": {
        "id": "1jnBfJrXh7Rp"
      },
      "source": [
        "def check_selection(msfile, calibrator, c_start=0, c_stop=0, r_ant=''):\n",
        "    print(\"Quick data inspection to confirm ref ant and ref chans before calibration\")\n",
        "    # verify or make note of suitably flat channel range to use for preliminary gain calibration prior to bandpass calibration\n",
        "    # min rfi\n",
        "    print(f\"plotms(vis='{msfile}', xaxis='chan', yaxis='amp', correlation='XX,YY', field='{calibrator}', avgtime='{dt}', averagedata=True, avgscan=True, avgbaseline=True, coloraxis='corr', plotrange=[{c_start}, {c_stop}, 0, 0])\")\n",
        "    # flat phase\n",
        "    print(f\"plotms(vis='{msfile}', xaxis='chan', yaxis='phase', correlation='XX,YY', field='{calibrator}', avgtime='{dt}', averagedata=True, avgscan=True, avgbaseline=True, coloraxis='corr', plotrange=[{c_start}, {c_stop}, -180, 180])\")\n",
        "\n",
        "    # confirm reference antenna looks ok\n",
        "    if r_ant:\n",
        "        avg_bl='False'\n",
        "    else:\n",
        "        avg_bl='True'\n",
        "    # verify now bad data like slew in scan\n",
        "    print(f\"plotms(vis='{msfile}', xaxis='time', yaxis='amp', correlation='XX,YY', field='{calibrator}', antenna='{r_ant}', avgchannel='{nchans}', averagedata=True, avgscan=True, avgbaseline={avg_bl}, coloraxis='corr')\")\n",
        "    # flat phase over entire time range\n",
        "    print(f\"plotms(vis='{msfile}', xaxis='time', yaxis='phase', correlation='XX,YY', field='{calibrator}', antenna='{r_ant}', avgchannel='{nchans}', averagedata=True, avgscan=True, avgbaseline={avg_bl}, coloraxis='corr')\")\n",
        "    print(\"Switch views interactively as needed, check other sources for obvious issues that need to be flagged.\")"
      ],
      "execution_count": null,
      "outputs": []
    },
    {
      "cell_type": "markdown",
      "metadata": {
        "id": "1FGNzL2k88Ip"
      },
      "source": [
        "https://github.com/rubyvanrooyen/katcomm/blob/master/Users/ruby/oh_masers/G330/G330_CASA_data_inspection_commands.ipynb"
      ]
    },
    {
      "cell_type": "markdown",
      "metadata": {
        "id": "weI996iz6anE"
      },
      "source": [
        "Helper functions"
      ]
    },
    {
      "cell_type": "code",
      "metadata": {
        "id": "snRzd74Vzcnf"
      },
      "source": [
        "def _get_prefix_(msfile):\n",
        "    import os\n",
        "    prefix, _ = os.path.splitext(msfile)\n",
        "    return prefix\n",
        "\n",
        "def _list2quotedstr_(list_):\n",
        "    csv_ = ''\n",
        "    for itm in list_:\n",
        "        csv_ += f\"'{itm}',\"\n",
        "    return f\"[{csv_[:-1]}]\""
      ],
      "execution_count": null,
      "outputs": []
    },
    {
      "cell_type": "markdown",
      "metadata": {
        "id": "Tue757_bMiVy"
      },
      "source": [
        "Fill in flux cal model column\n",
        "* https://casadocs.readthedocs.io/en/stable/api/tt/casatasks.imaging.setjy.html"
      ]
    },
    {
      "cell_type": "code",
      "metadata": {
        "id": "jFLZYEFw0uvh"
      },
      "source": [
        "def init_cal(msfile, calibrator, fixvis=False, model='', manual=''):\n",
        "    if fixvis:\n",
        "        # phase centre correction\n",
        "        # Recalculate uvw coordinates so they are consistent with CASA's convention - otherwise images will appear to be inverted\n",
        "        print(f\"fixvis(vis='{msfile}', reuse=False)\")\n",
        "    print(f\"clearcal('{msfile}')\")\n",
        "    # apply calibrator model to model column to retain calibrator structure for extended sources\n",
        "    if model: raise RuntimeError('Add model setjy')\n",
        "    if manual: raise RuntimeError('Add manual setjy')\n",
        "    else:\n",
        "        print(f\"setjy(vis='{msfile}', field='{calibrator}', fluxdensity=-1, standard='Perley-Butler 2010')\")\n",
        "    # view calibrator model\n",
        "    print(f\"plotms(vis='{msfile}', xaxis='freq', yaxis='amp', correlation='XX,YY', field='{calibrator}', ydatacolumn='model', avgtime='{dt}', averagedata=True, avgbaseline=True, coloraxis='scan')\")\n"
      ],
      "execution_count": null,
      "outputs": []
    },
    {
      "cell_type": "markdown",
      "metadata": {
        "id": "9KhN8a529dmw"
      },
      "source": [
        "## Delay calibration\n",
        "\n",
        "* https://casa.nrao.edu/docs/taskref/gaincal-task.html"
      ]
    },
    {
      "cell_type": "code",
      "metadata": {
        "id": "2t55pD7KzN18"
      },
      "source": [
        "def delay_cal(msfile, kcal, ref_ant=''):\n",
        "    prefix = _get_prefix_(msfile)\n",
        "\n",
        "    # use delay calibration on primary calibrator to inspect data and identify possible bad antennas or antennas to note\n",
        "    print('# calculate temporary per scan delay corrections')\n",
        "    ktable0 = prefix + '.K0'\n",
        "    print(f\"rmtables('{ktable0}')\")\n",
        "    print(f\"gaincal(vis='{msfile}', caltable='{ktable0}', field='{kcal}', refant='{ref_ant}', gaintype='K', solint='int', combine='scan,field', minsnr=3.0)\")\n",
        "    # inspect delay solutions and see if they make sense.\n",
        "    print(\"# delays after calibration should be no more than a few nanoseconds and spread around/close to zero.\")\n",
        "    print(\"# per antenna spread should be small as well\")\n",
        "    print(f\"plotcal(caltable='{ktable0}', xaxis='antenna', yaxis='delay')\")\n",
        "    print(f\"plotcal(caltable='{ktable0}', xaxis='time', yaxis='delay', iteration='antenna', subplot=421)\")\n",
        "    # optional\n",
        "    # temporarily apply delay cal to check bandpass with delay solution applied\n",
        "    print(f\"applycal(vis='{msfile}', field='{kcal}', gaintable=['{ktable0}'], gainfield=['{kcal}'], interp=['nearest'], calwt=False, applymode='calflag')\")\n",
        "    # check bandpass with delay solutions applied and confirm that there is no fringing.\n",
        "    print(f\"plotms(vis='{msfile}', xaxis='freq', yaxis='phase', correlation='XX,YY', field='{kcal}', ydatacolumn='corrected', avgtime='{dt}', averagedata=True, avgscan=True, avgbaseline=True, coloraxis='corr')\")\n",
        "    print()\n",
        "\n",
        "    print('# combine all scans to derive a single delay correction')\n",
        "    ktable = prefix + '.K'\n",
        "    print(f\"rmtables('{ktable}')\")\n",
        "    # combine all scans to derive a single delay correction\n",
        "    print(f\"gaincal(vis='{msfile}', caltable='{ktable}', field='{kcal}', refant='{ref_ant}', gaintype='K', solint='inf', combine='scan,field', minsnr=3.0)\")\n",
        "    # inspect delay solutions and see if they make sense.    \n",
        "    print(\"# delays after calibration should be no more than a few nanoseconds and spread around/close to zero.\")\n",
        "    print(f\"plotcal(caltable='{ktable}', xaxis='antenna', yaxis='delay')\")\n",
        "    print(\"# temporarily apply delay cal to check bandpass with delay solution applied\")\n",
        "    print(f\"applycal(vis='{msfile}', field='{kcal}', gaintable=['{ktable}'], gainfield=['{kcal}'], interp=['nearest'], calwt=False, applymode='calflag')\")\n",
        "    print(\"# check bandpass with delay solutions applied and confirm that there is no fringing.\")\n",
        "    print(f\"plotms(vis='{msfile}', xaxis='freq', yaxis='phase', correlation='XX,YY', field='{kcal}', ydatacolumn='corrected', avgtime='{dt}', averagedata=True, avgscan=True, avgbaseline=True, coloraxis='corr')\")\n",
        "    print()\n",
        "    \n",
        "    return ktable"
      ],
      "execution_count": null,
      "outputs": []
    },
    {
      "cell_type": "markdown",
      "metadata": {
        "id": "eyby78Qi7h8Y"
      },
      "source": [
        "## Bandpass calibration\n",
        "\n",
        "* https://casa.nrao.edu/docs/taskref/bandpass-task.html\n",
        "\n",
        "Some decisions need to be made here.    \n",
        "Because the target field has continuum emission of similar or greater strength to the bandpass calibrator, a noisy per/channel bandpass solution will transfer the noise into the continuum field.  Thus a solution-type of 'BPOLY' should be used or smoothing options investigated.    \n",
        "The order of the polynomials for amplitude and phase can be set separately.    \n",
        "This can be determined by inspection of the time-averaged visibility data on the bandpass calibrator, with `gtable0` applied if there is significant phase drift.    \n",
        "Note that since we will be doing this initial data reduction over ~ 10 MHz, a low order polynomial is expected to be sufficient."
      ]
    },
    {
      "cell_type": "code",
      "metadata": {
        "id": "sC-S-ymf2hMr"
      },
      "source": [
        "def bp_cal(msfile, bcal, ref_ant='', ref_chans='', gaintables=[], gainfields=[]):\n",
        "    prefix = _get_prefix_(msfile)\n",
        "    gtlist = _list2quotedstr_(gaintables)\n",
        "    gflist = _list2quotedstr_(gainfields)\n",
        "\n",
        "    # preliminary gaincal\n",
        "    print(\"# a throw-away calibration carried out over a small part of the band where the bandpass response is sufficiently flat\")\n",
        "    gtable0 = prefix + '.G0'\n",
        "    print(f\"rmtables('{gtable0}')\")\n",
        "    # if significant phase drift occurs over the duration of the bandpass calibrator scan, this needs to be corrected prior to averaging over time.\n",
        "    print(f\"gaincal(vis='{msfile}', caltable='{gtable0}', field='{bcal}', refant='{ref_ant}', gaintype='G', spw='{ref_chans}', calmode='p', solint='inf', minsnr=3.0, solnorm=True, gaintable={gtlist}, interp='nearest')\")\n",
        "#     print(f\"gaincal(vis='{msfile}', caltable='{gtable0}', field='{bcal}', refant='{ref_ant}', gaintype='G', spw='{ref_chans}', calmode='ap', solint='int', minsnr=3.0, solnorm=True, gaintable={gtlist}, interp='nearest')\")\n",
        "    # inspect temp gain solutions\n",
        "    print(\"# antenna-based components which can be inspected for each antenna, all phase solutions should be in a straight line since the flux cal is a point source\")\n",
        "    print(f\"plotcal(caltable='{gtable0}', xaxis='time', yaxis='phase', plotrange=[-1, -1, -180, 180], iteration='antennas', subplot=421)\")\n",
        "#     print(f\"plotcal(caltable='{gtable0}', xaxis='time', yaxis='amp', iteration='antennas', subplot=421)\")\n",
        "    print()\n",
        "\n",
        "    # For narrow band and 32k spectral line calibration\n",
        "    # Note: Because the target field has continuum emission of similar or greater strength to the bandpass calibrator,\n",
        "    # a noisy per/channel bandpass solution will transfer the noise into the continuum field.\n",
        "    # Thus a solution-type of 'BPOLY' should be used or smoothing options investigated.\n",
        "    gtlist0 = f\"['{gtable0}',{gtlist[1:-1]}]\"\n",
        "    gflist0 = f\"['{bcal}',{gflist[1:-1]}]\"\n",
        "    print(\"# The order of the polynomials for amplitude and phase can be set separately.\")\n",
        "    print(\"# This can be determined by inspection of the time-averaged visibility data on the bandpass calibrator, with gtable0 applied if there is significant phase drift.\")\n",
        "    print(f\"applycal(vis='{msfile}', field='{bcal}', gaintable={gtlist0}, gainfield={gflist0}, interp=['nearest', 'nearest'], calwt=False, applymode='calflag')\")\n",
        "    print(f\"plotms(vis='{msfile}', xaxis='chan', yaxis='amp', correlation='XX,YY', field='{bcal}', ydatacolumn='corrected', avgtime='{dt}', averagedata=True, avgscan=True, avgbaseline=True, coloraxis='corr')\")\n",
        "    print(f\"plotms(vis='{msfile}', xaxis='chan', yaxis='phase', correlation='XX,YY', field='{bcal}', ydatacolumn='corrected', avgtime='{dt}', averagedata=True, avgscan=True, avgbaseline=True, coloraxis='corr')\")\n",
        "    print()\n",
        "\n",
        "    # bandpass calibration\n",
        "    gflist = f\"['{bcal}',{gflist[1:-1]}]\"\n",
        "    # Bandpass does not show time-variation within the observation session, but some antennas have nasty dips and kinks.\n",
        "    # So combine all scans to improve s/n. Possibly need to do some smoothing\n",
        "    # Only using the primary calibrator that you have a flux model for (build a model for 0408-65).\n",
        "    btable = prefix + '.B'\n",
        "    gtlist = f\"['{btable}',{gtlist[1:-1]}]\"\n",
        "    print(f\"rmtables('{btable}')\")\n",
        "    print(f\"bandpass(vis='{msfile}', caltable='{btable}', field='{bcal}', refant='{ref_ant}', bandtype='B', solint='inf', combine='scan, field', minsnr=3, solnorm=True, gaintable={gtlist0}, interp=['nearest', 'nearest'])\")\n",
        "\n",
        "    print(\"# passband in amp around 1. and consistent in phase\")\n",
        "    print(f\"plotcal(caltable='{btable}', xaxis='chan', yaxis='amp', iteration='antennas', subplot=421)\")\n",
        "    print(f\"plotcal(caltable='{btable}', xaxis='chan', yaxis='phase', iteration='antennas', subplot=421)\")\n",
        "\n",
        "    print(f\"plotbandpass(caltable='{btable}', yaxis='amp', poln='xx,yy', subplot=11, overlay='time')\")\n",
        "    print(f\"plotbandpass(caltable='{btable}', yaxis='phase', poln='xx,yy', subplot=11, overlay='time')\")\n",
        "\n",
        "    print(f\"applycal(vis='{msfile}', field='{bcal}', gaintable={gtlist}, gainfield={gflist}, interp=['nearest', 'nearest'], calwt=False, applymode='calflag')\")\n",
        "    print(f\"plotms(vis='{msfile}', xaxis='chan', yaxis='phase', correlation='XX,YY', field='{bcal}', ydatacolumn='corrected', avgtime='{dt}', averagedata=True, avgscan=True, avgbaseline=True, coloraxis='corr')\")\n",
        "    print(f\"plotms(vis='{msfile}', xaxis='chan', yaxis='phase', correlation='XX,YY', field='{bcal}', ydatacolumn='corrected', avgtime='{dt}', averagedata=True, avgscan=True, iteraxis='antenna', coloraxis='corr')\")\n",
        "    print()\n",
        "\n",
        "    print(\"# a low order polynomial is expected to be sufficient in NB\")\n",
        "    btable_poly = prefix + '_bpoly.B'\n",
        "    print(f\"rmtables('{btable_poly}')\")\n",
        "    degamp = 50  # 3  # >=3\n",
        "    degphase = 20  # 5  # >=3\n",
        "    # maybe do only bpoly on nb data == narrow pb\n",
        "    print(f\"bandpass(vis='{msfile}', caltable='{btable_poly}', field='{bcal}', refant='{ref_ant}', bandtype='BPOLY', solint='inf', combine='scan, field', minsnr=3, solnorm=True, degamp = {degamp}, degphase = {degphase}, gaintable={gtlist0}, interp=['nearest', 'nearest'])\")\n",
        "    gtlist_ = f\"['{btable_poly}',{gtlist[1:-1]}]\"\n",
        "    print(f\"applycal(vis='{msfile}', field='{bcal}', gaintable={gtlist}, gainfield={gflist}, interp=['nearest', 'nearest'], calwt=False, applymode='calflag')\")\n",
        "    print(f\"plotms(vis='{msfile}', xaxis='chan', yaxis='phase', correlation='XX,YY', field='{bcal}', ydatacolumn='corrected', avgtime='{dt}', averagedata=True, avgscan=True, avgbaseline=True, coloraxis='corr')\")\n",
        "    print(f\"plotms(vis='{msfile}', xaxis='chan', yaxis='phase', correlation='XX,YY', field='{bcal}', ydatacolumn='corrected', avgtime='{dt}', averagedata=True, avgscan=True, iteraxis='antenna', coloraxis='corr')\")\n",
        "    print()\n",
        "\n",
        "    return btable"
      ],
      "execution_count": null,
      "outputs": []
    },
    {
      "cell_type": "markdown",
      "metadata": {
        "id": "jiQBUPV_yqCe"
      },
      "source": [
        "## Complex gain calibration\n",
        "\n",
        "* https://casa.nrao.edu/docs/taskref/gaincal-task.html"
      ]
    },
    {
      "cell_type": "code",
      "metadata": {
        "id": "YTX7o2Xfee2Z"
      },
      "source": [
        "def phase_cal(msfile, gcal, ref_ant='', append=False, gaintables=[], gainfields=[]):\n",
        "    prefix = _get_prefix_(msfile)\n",
        "    gtlist = _list2quotedstr_(gaintables)\n",
        "    gflist = _list2quotedstr_(gainfields)\n",
        "\n",
        "    # Now ignore gtable0 and start again with a bandpass correction applied before full gain calibration.\n",
        "    # use complex gain calibration on primary calibrator to inspect data and identify possible bad time dumps to note\n",
        "    print('# calculate temporary per dump gain corrections')\n",
        "    gtable1 = prefix + '.G1'\n",
        "    print(f\"rmtables('{gtable1}')\")\n",
        "    print(f\"gaincal(vis='{msfile}', caltable='{gtable1}', field='{gcal}', refant='{ref_ant}', gaintype='G', calmode='ap', solint='int', combine='spw', minsnr=3, solnorm=False, gaintable={gtlist}, interp=['nearest', 'nearest'])\")\n",
        "    print(\"# phase and amp solutions over a scan must be flat for point sources\")\n",
        "    print(f\"plotcal(caltable='{gtable1}', xaxis='time', yaxis='phase', field='{gcal}', plotrange=[-1, -1, -180, 180])\")\n",
        "    print(f\"plotcal(caltable='{gtable1}', xaxis='time', yaxis='amp', field='{gcal}')\")\n",
        "    # or\n",
        "    print(f\"plotcal(caltable='{gtable1}', xaxis='time', yaxis='phase', field='{gcal}', plotrange=[-1, -1, -180, 180], iteration='antennas', subplot=421)\")\n",
        "    print(f\"plotcal(caltable='{gtable1}', xaxis='time', yaxis='amp', field='{gcal}', iteration='antennas', subplot=421)\")\n",
        "    print()\n",
        "\n",
        "    print(\"# We assume that we can set the solution interval to the duration of the scan.\")\n",
        "    gtable = prefix + '.G'\n",
        "    if not append: print(f\"rmtables('{gtable}')\")\n",
        "    print(f\"gaincal(vis='{msfile}', caltable='{gtable}', field='{gcal}', refant='{ref_ant}', gaintype='G', calmode='ap', solint='inf', combine='spw', append={append}, minsnr=3, solnorm=False, gaintable={gtlist}, interp=['nearest', 'nearest'])\")\n",
        "    print(f\"plotcal(caltable='{gtable}', xaxis='time', yaxis='phase', field='{gcal}', plotrange=[-1, -1, -180, 180])\")\n",
        "    print(f\"plotcal(caltable='{gtable}', xaxis='time', yaxis='amp', field='{gcal}')\")\n",
        "    print(f\"plotcal(caltable='{gtable}', xaxis='time', yaxis='phase', field='{gcal}', plotrange=[-1, -1, -180, 180], iteration='antennas', subplot=421)\")\n",
        "    print(f\"plotcal(caltable='{gtable}', xaxis='time', yaxis='amp', field='{gcal}', iteration='antennas', subplot=421)\")\n",
        "\n",
        "    gtlist = f\"['{gtable}',{gtlist[1:-1]}]\"\n",
        "    gflist = f\"['{gcal}',{gflist[1:-1]}]\"\n",
        "    print(f\"applycal(vis='{msfile}', field='{gcal}', gaintable={gtlist}, gainfield={gflist}, interp=['nearest', 'nearest', 'nearest'], calwt=False, applymode='calflag')\")\n",
        "    print(f\"applycal(vis='{msfile}', field='{gcal}', gaintable={gtlist}, gainfield={gflist}, interp=['linear', 'nearest', 'nearest'], calwt=False, applymode='calflag')\")\n",
        "    # Slice in time (look at all channels averaged over time)\n",
        "    print(f\"plotms(vis='{msfile}', xaxis='chan', yaxis='phase', correlation='XX,YY', field='{gcal}', ydatacolumn='corrected', avgtime='{dt}', averagedata=True, avgscan=True, avgbaseline=True, coloraxis='corr', plotrange=[0,0,-180,180])\")\n",
        "#    print(f\"plotms(vis='{msfile}', xaxis='chan', yaxis='phase', correlation='XX,YY', field='{gcal}', ydatacolumn='corrected', avgtime='{dt}', averagedata=True, avgscan=True, iteraxis='antenna', coloraxis='corr')\")\n",
        "    print(f\"plotms(vis='{msfile}', xaxis='chan', yaxis='amp', correlation='XX,YY', field='{gcal}', ydatacolumn='corrected', avgtime='{dt}', averagedata=True, avgscan=True, avgbaseline=True, coloraxis='corr')\")\n",
        "    # Slice in frequency (look at all timestamps averaged over channel)\n",
        "    print(f\"plotms(vis='{msfile}', xaxis='time', yaxis='amp', correlation='XX,YY', field='{gcal}', ydatacolumn='corrected', avgchannel='{nchans}', averagedata=True, avgscan=True, avgbaseline=True, coloraxis='corr')\")\n",
        "    print(f\"plotms(vis='{msfile}', xaxis='time', yaxis='phase', correlation='XX,YY', field='{gcal}', ydatacolumn='corrected', avgchannel='{nchans}', averagedata=True, avgscan=True, avgbaseline=True, coloraxis='corr', plotrange=[0,0,-180,180])\")\n",
        "    print()\n",
        "\n",
        "    return gtable"
      ],
      "execution_count": null,
      "outputs": []
    },
    {
      "cell_type": "code",
      "metadata": {
        "id": "GDm0akA_6o9t"
      },
      "source": [
        "def FGBGK(msfile, kcal, bcal, gcal, fcal, ref_ant='', ref_chans=''):\n",
        "\n",
        "    # K\n",
        "    print('Delay calibration')\n",
        "    ktable = delay_cal(msfile, kcal, ref_ant=ref_ant)\n",
        "\n",
        "    # BG\n",
        "    print('\\nBandpass calibration')\n",
        "    btable = bp_cal(msfile, bcal, ref_ant=ref_ant, ref_chans=ref_chans, gaintables=[ktable], gainfields=[kcal])\n",
        "\n",
        "    # G3\n",
        "    print('\\nComplex gain calibration, flux cal')\n",
        "    # gain calibrartion on fluxscale calibrator\n",
        "    gtable = phase_cal(msfile, kcal, ref_ant=ref_ant, append=False, gaintables=[btable, ktable], gainfields=[bcal, kcal])\n",
        "\n",
        "    cals = ''\n",
        "    if bcal != kcal:  cals = bcal\n",
        "    if gcal != kcal and gcal != bcal:\n",
        "        if cals: cals += f\", {gcal}\"\n",
        "        else: cals = gcal\n",
        "    if cals:\n",
        "        print('\\nComplex gain, other calibrators')\n",
        "        gtable = phase_cal(msfile, cals, ref_ant=ref_ant, append=True, gaintables=[btable, ktable], gainfields=[bcal, kcal])\n",
        "\n",
        "    # Flux\n",
        "    # convert correlation coefficients to absolute flux densities\n",
        "    # https://casa.nrao.edu/docs/taskref/fluxscale-task.html\n",
        "    prefix = _get_prefix_(msfile)\n",
        "    print('\\nFlux calibration')\n",
        "    ftable = prefix + '.F'\n",
        "    print(f\"rmtables('{ftable}')\")\n",
        "    cals = ''\n",
        "    if kcal != fcal: cals = kcal\n",
        "    if bcal != fcal and bcal != kcal:\n",
        "        if cals: cals += f\", {bcal}\"\n",
        "        else: cals = bcal\n",
        "    if gcal != fcal and gcal != kcal and gcal != bcal:\n",
        "        if cals: cals += f\", {gcal}\"\n",
        "        else: cals = gcal\n",
        "    if cals:\n",
        "        print(\"# scales the gain on the secondary calibrator by the fluxscale\")\n",
        "        print(f\"fluxscale(vis='{msfile}', caltable='{gtable}', fluxtable='{ftable}', reference='{fcal}', transfer='{cals}')\")\n",
        "        gtlist = _list2quotedstr_([ftable, btable, ktable])\n",
        "        gflist = _list2quotedstr_([gcal, bcal, kcal])\n",
        "        print(f\"applycal(vis='{msfile}', field='{cals}', gaintable={gtlist}, gainfield={gflist}, interp=['nearest', 'nearest', 'nearest'], calwt=False, applymode='calflag')\")\n",
        "        print(f\"applycal(vis='{msfile}', field='{cals}', gaintable={gtlist}, gainfield={gflist}, interp=['linear', 'nearest', 'nearest'], calwt=False, applymode='calflag')\")\n",
        "        # Slice in time (look at all channels averaged over time)\n",
        "        print(f\"plotms(vis='{msfile}', xaxis='chan', yaxis='phase', correlation='XX,YY', ydatacolumn='corrected', avgtime='{dt}', averagedata=True, avgscan=True, avgbaseline=True, coloraxis='field')\")\n",
        "        print(f\"plotms(vis='{msfile}', xaxis='chan', yaxis='amp', correlation='XX,YY', ydatacolumn='corrected', avgtime='{dt}', averagedata=True, avgscan=True, avgbaseline=True, coloraxis='field')\")\n",
        "        # Slice in frequency (look at all timestamps averaged over channel)\n",
        "        print(f\"plotms(vis='{msfile}', xaxis='time', yaxis='amp', correlation='XX,YY', ydatacolumn='corrected', avgchannel='{nchans}', averagedata=True, avgscan=True, avgbaseline=True, coloraxis='field')\")\n",
        "        print(f\"plotms(vis='{msfile}', xaxis='time', yaxis='phase', correlation='XX,YY', ydatacolumn='corrected', avgchannel='{nchans}', averagedata=True, avgscan=True, avgbaseline=True, coloraxis='field')\")\n",
        "    else: ftable = ''\n",
        "    print()\n",
        "\n",
        "    return ktable, btable, gtable, ftable"
      ],
      "execution_count": 1,
      "outputs": []
    },
    {
      "cell_type": "markdown",
      "metadata": {
        "id": "HTVyiVBtgC5X"
      },
      "source": [
        "# Wideband calibration recipe"
      ]
    },
    {
      "cell_type": "code",
      "metadata": {
        "id": "-QvYlpMscsNe"
      },
      "source": [
        "dt = 5200  # s\n",
        "nchans = 4096\n",
        "start_freq = 0.890064  # GHz\n",
        "stop_freq = 1.6681128  # GHz\n",
        "pb_start_idx = 163\n",
        "pb_end_idx = 3885\n",
        "\n",
        "ref_ant = 'm010'\n",
        "ref_chans = ''  # '0:2000~3000'"
      ],
      "execution_count": null,
      "outputs": []
    },
    {
      "cell_type": "code",
      "metadata": {
        "colab": {
          "base_uri": "https://localhost:8080/"
        },
        "id": "2omskj2q31Fa",
        "outputId": "6df7ed09-b24a-4ea7-ee08-e54bc8f23d5c"
      },
      "source": [
        "# Concatenate calibrator observation data\n",
        "print(\"# calibrator only measurement set\")\n",
        "cal_mslist=f\"['J1939-6342.ms', 'J1726-5529.ms']\"\n",
        "msfile = 'g330_calibrators.ms'\n",
        "print(f\"rmtables('{msfile}')\")\n",
        "print(f\"concat(vis={cal_mslist}, concatvis='{msfile}', timesort=True)\")\n",
        "\n",
        "primary_cal = 'J1939-6342'  # delay_cal, flux_cal, bp_cal\n",
        "secondary_cal = 'J1726-5529'  # gain_cal\n",
        "target = 'G330.89-0.36'"
      ],
      "execution_count": null,
      "outputs": [
        {
          "output_type": "stream",
          "text": [
            "# calibrator only measurement set\n",
            "rmtables('g330_calibrators.ms')\n",
            "concat(vis=['J1939-6342.ms', 'J1726-5529.ms'], concatvis='g330_calibrators.ms', timesort=True)\n"
          ],
          "name": "stdout"
        }
      ]
    },
    {
      "cell_type": "code",
      "metadata": {
        "colab": {
          "base_uri": "https://localhost:8080/",
          "height": 1000
        },
        "id": "PFvxJKBFcsSh",
        "outputId": "71783aa2-075e-4203-90ce-2b6ce802ff0a"
      },
      "source": [
        "if ref_chans:\n",
        "    c_start, c_stop = ref_chans.split(':')[1].split('~')\n",
        "else:\n",
        "    c_start=pb_start_idx\n",
        "    c_stop=pb_end_idx\n",
        "\n",
        "check_selection(msfile, primary_cal, c_start=c_start, c_stop=c_stop, r_ant=ref_ant)\n",
        "print()\n",
        "\n",
        "# calibration recipe\n",
        "init_cal(msfile, primary_cal)\n",
        "print()\n",
        "ktable, btable, gtable, ftable = FGBGK(msfile, kcal=primary_cal, gcal=secondary_cal, bcal=primary_cal, fcal=primary_cal, ref_ant=ref_ant, ref_chans=ref_chans)\n",
        "print()\n",
        "\n",
        "# apply calibration\n",
        "print('# apply calibration solutions')\n",
        "gtlist = _list2quotedstr_([ftable, btable, ktable])\n",
        "gflist = _list2quotedstr_([gcal, bcal, kcal])\n",
        "\n",
        "\n",
        "applycal(vis=msfile,\n",
        "             field=target,\n",
        "             gaintable=[ktable0, btable1, ftable1],\n",
        "             gainfield=[delay_cal,bp_cal, g_cal],\n",
        "             interp=['nearest', 'nearest', 'linear'])\n",
        "\n",
        "print('# corrected calibrator data')\n",
        "# Slice in time (look at all channels averaged over time)\n",
        "print(f\"plotms(vis='{msfile}', xaxis='chan', yaxis='phase', correlation='XX,YY', ydatacolumn='corrected', avgtime='{dt}', averagedata=True, avgscan=True, avgbaseline=True, coloraxis='field')\")\n",
        "print(f\"plotms(vis='{msfile}', xaxis='chan', yaxis='amp', correlation='XX,YY', ydatacolumn='corrected', avgtime='{dt}', averagedata=True, avgscan=True, avgbaseline=True, coloraxis='field')\")\n",
        "# Slice in frequency (look at all timestamps averaged over channel)\n",
        "print(f\"plotms(vis='{msfile}', xaxis='time', yaxis='amp', correlation='XX,YY', ydatacolumn='corrected', avgchannel='{nchans}', averagedata=True, avgscan=True, avgbaseline=True, coloraxis='field')\")\n",
        "print(f\"plotms(vis='{msfile}', xaxis='time', yaxis='phase', correlation='XX,YY', ydatacolumn='corrected', avgchannel='{nchans}', averagedata=True, avgscan=True, avgbaseline=True, coloraxis='field')\")\n",
        "\n"
      ],
      "execution_count": null,
      "outputs": [
        {
          "output_type": "stream",
          "text": [
            "Quick data inspection to confirm ref ant and ref chans before calibration\n",
            "plotms(vis='g330_calibrators.ms', xaxis='chan', yaxis='amp', correlation='XX,YY', field='J1939-6342', avgtime='5200', averagedata=True, avgscan=True, avgbaseline=True, coloraxis='corr', plotrange=[163, 3885, 0, 0])\n",
            "plotms(vis='g330_calibrators.ms', xaxis='chan', yaxis='phase', correlation='XX,YY', field='J1939-6342', avgtime='5200', averagedata=True, avgscan=True, avgbaseline=True, coloraxis='corr', plotrange=[163, 3885, -180, 180])\n",
            "plotms(vis='g330_calibrators.ms', xaxis='time', yaxis='amp', correlation='XX,YY', field='J1939-6342', antenna='m010', avgchannel='4096', averagedata=True, avgscan=True, avgbaseline=False, coloraxis='corr')\n",
            "plotms(vis='g330_calibrators.ms', xaxis='time', yaxis='phase', correlation='XX,YY', field='J1939-6342', antenna='m010', avgchannel='4096', averagedata=True, avgscan=True, avgbaseline=False, coloraxis='corr')\n",
            "Switch views interactively as needed, check other sources for obvious issues that need to be flagged.\n",
            "\n",
            "clearcal('g330_calibrators.ms')\n",
            "setjy(vis='g330_calibrators.ms', field='J1939-6342', fluxdensity=-1, standard='Perley-Butler 2010')\n",
            "plotms(vis='g330_calibrators.ms', xaxis='freq', yaxis='amp', correlation='XX,YY', field='J1939-6342', ydatacolumn='model', avgtime='5200', averagedata=True, avgbaseline=True, coloraxis='scan')\n",
            "\n",
            "Delay calibration\n",
            "# calculate temporary per scan delay corrections\n",
            "rmtables('g330_calibrators.K0')\n",
            "gaincal(vis='g330_calibrators.ms', caltable='g330_calibrators.K0', field='J1939-6342', refant='m010', gaintype='K', solint='int', combine='scan,field', minsnr=3.0)\n",
            "# delays after calibration should be no more than a few nanoseconds and spread around/close to zero.\n",
            "# per antenna spread should be small as well\n",
            "plotcal(caltable='g330_calibrators.K0', xaxis='antenna', yaxis='delay')\n",
            "plotcal(caltable='g330_calibrators.K0', xaxis='time', yaxis='delay', iteration='antenna', subplot=421)\n",
            "applycal(vis='g330_calibrators.ms', field='J1939-6342', gaintable=['g330_calibrators.K0'], gainfield=['J1939-6342'], interp=['nearest'], calwt=False, applymode='calflag')\n",
            "plotms(vis='g330_calibrators.ms', xaxis='freq', yaxis='phase', correlation='XX,YY', field='J1939-6342', ydatacolumn='corrected', avgtime='5200', averagedata=True, avgscan=True, avgbaseline=True, coloraxis='corr')\n",
            "\n",
            "# combine all scans to derive a single delay correction\n",
            "rmtables('g330_calibrators.K')\n",
            "gaincal(vis='g330_calibrators.ms', caltable='g330_calibrators.K', field='J1939-6342', refant='m010', gaintype='K', solint='inf', combine='scan,field', minsnr=3.0)\n",
            "# delays after calibration should be no more than a few nanoseconds and spread around/close to zero.\n",
            "plotcal(caltable='g330_calibrators.K', xaxis='antenna', yaxis='delay')\n",
            "# temporarily apply delay cal to check bandpass with delay solution applied\n",
            "applycal(vis='g330_calibrators.ms', field='J1939-6342', gaintable=['g330_calibrators.K'], gainfield=['J1939-6342'], interp=['nearest'], calwt=False, applymode='calflag')\n",
            "# check bandpass with delay solutions applied and confirm that there is no fringing.\n",
            "plotms(vis='g330_calibrators.ms', xaxis='freq', yaxis='phase', correlation='XX,YY', field='J1939-6342', ydatacolumn='corrected', avgtime='5200', averagedata=True, avgscan=True, avgbaseline=True, coloraxis='corr')\n",
            "\n",
            "\n",
            "Bandpass calibration\n",
            "# a throw-away calibration carried out over a small part of the band where the bandpass response is sufficiently flat\n",
            "rmtables('g330_calibrators.G0')\n",
            "gaincal(vis='g330_calibrators.ms', caltable='g330_calibrators.G0', field='J1939-6342', refant='m010', gaintype='G', spw='', calmode='p', solint='inf', minsnr=3.0, solnorm=True, gaintable=['g330_calibrators.K'], interp='nearest')\n",
            "# antenna-based components which can be inspected for each antenna, all phase solutions should be in a straight line since the flux cal is a point source\n",
            "plotcal(caltable='g330_calibrators.G0', xaxis='time', yaxis='phase', plotrange=[-1, -1, -180, 180], iteration='antennas', subplot=421)\n",
            "\n",
            "# The order of the polynomials for amplitude and phase can be set separately.\n",
            "# This can be determined by inspection of the time-averaged visibility data on the bandpass calibrator, with gtable0 applied if there is significant phase drift.\n",
            "applycal(vis='g330_calibrators.ms', field='J1939-6342', gaintable=['g330_calibrators.G0','g330_calibrators.K'], gainfield=['J1939-6342','J1939-6342'], interp=['nearest', 'nearest'], calwt=False, applymode='calflag')\n",
            "plotms(vis='g330_calibrators.ms', xaxis='chan', yaxis='amp', correlation='XX,YY', field='J1939-6342', ydatacolumn='corrected', avgtime='5200', averagedata=True, avgscan=True, avgbaseline=True, coloraxis='corr')\n",
            "plotms(vis='g330_calibrators.ms', xaxis='chan', yaxis='phase', correlation='XX,YY', field='J1939-6342', ydatacolumn='corrected', avgtime='5200', averagedata=True, avgscan=True, avgbaseline=True, coloraxis='corr')\n",
            "\n",
            "rmtables('g330_calibrators.B')\n",
            "bandpass(vis='g330_calibrators.ms', caltable='g330_calibrators.B', field='J1939-6342', refant='m010', bandtype='B', solint='inf', combine='scan, field', minsnr=3, solnorm=True, gaintable=['g330_calibrators.G0','g330_calibrators.K'], interp=['nearest', 'nearest'])\n",
            "# passband in amp around 1. and consistent in phase\n",
            "plotcal(caltable='g330_calibrators.B', xaxis='chan', yaxis='amp', iteration='antennas', subplot=421)\n",
            "plotcal(caltable='g330_calibrators.B', xaxis='chan', yaxis='phase', iteration='antennas', subplot=421)\n",
            "plotbandpass(caltable='g330_calibrators.B', yaxis='amp', poln='xx,yy', subplot=11, overlay='time')\n",
            "plotbandpass(caltable='g330_calibrators.B', yaxis='phase', poln='xx,yy', subplot=11, overlay='time')\n",
            "applycal(vis='g330_calibrators.ms', field='J1939-6342', gaintable=['g330_calibrators.B','g330_calibrators.K'], gainfield=['J1939-6342','J1939-6342'], interp=['nearest', 'nearest'], calwt=False, applymode='calflag')\n",
            "plotms(vis='g330_calibrators.ms', xaxis='chan', yaxis='phase', correlation='XX,YY', field='J1939-6342', ydatacolumn='corrected', avgtime='5200', averagedata=True, avgscan=True, avgbaseline=True, coloraxis='corr')\n",
            "plotms(vis='g330_calibrators.ms', xaxis='chan', yaxis='phase', correlation='XX,YY', field='J1939-6342', ydatacolumn='corrected', avgtime='5200', averagedata=True, avgscan=True, iteraxis='antenna', coloraxis='corr')\n",
            "\n",
            "# a low order polynomial is expected to be sufficient in NB\n",
            "rmtables('g330_calibrators_bpoly.B')\n",
            "bandpass(vis='g330_calibrators.ms', caltable='g330_calibrators_bpoly.B', field='J1939-6342', refant='m010', bandtype='BPOLY', solint='inf', combine='scan, field', minsnr=3, solnorm=True, degamp = 50, degphase = 20, gaintable=['g330_calibrators.G0','g330_calibrators.K'], interp=['nearest', 'nearest'])\n",
            "applycal(vis='g330_calibrators.ms', field='J1939-6342', gaintable=['g330_calibrators.B','g330_calibrators.K'], gainfield=['J1939-6342','J1939-6342'], interp=['nearest', 'nearest'], calwt=False, applymode='calflag')\n",
            "plotms(vis='g330_calibrators.ms', xaxis='chan', yaxis='phase', correlation='XX,YY', field='J1939-6342', ydatacolumn='corrected', avgtime='5200', averagedata=True, avgscan=True, avgbaseline=True, coloraxis='corr')\n",
            "plotms(vis='g330_calibrators.ms', xaxis='chan', yaxis='phase', correlation='XX,YY', field='J1939-6342', ydatacolumn='corrected', avgtime='5200', averagedata=True, avgscan=True, iteraxis='antenna', coloraxis='corr')\n",
            "\n",
            "\n",
            "Complex gain calibration, flux cal\n",
            "# calculate temporary per dump gain corrections\n",
            "rmtables('g330_calibrators.G1')\n",
            "gaincal(vis='g330_calibrators.ms', caltable='g330_calibrators.G1', field='J1939-6342', refant='m010', gaintype='G', calmode='ap', solint='int', combine='spw', minsnr=3, solnorm=False, gaintable=['g330_calibrators.B','g330_calibrators.K'], interp=['nearest', 'nearest'])\n",
            "# phase and amp solutions over a scan must be flat for point sources\n",
            "plotcal(caltable='g330_calibrators.G1', xaxis='time', yaxis='phase', field='J1939-6342', plotrange=[-1, -1, -180, 180])\n",
            "plotcal(caltable='g330_calibrators.G1', xaxis='time', yaxis='amp', field='J1939-6342')\n",
            "plotcal(caltable='g330_calibrators.G1', xaxis='time', yaxis='phase', field='J1939-6342', plotrange=[-1, -1, -180, 180], iteration='antennas', subplot=421)\n",
            "plotcal(caltable='g330_calibrators.G1', xaxis='time', yaxis='amp', field='J1939-6342', iteration='antennas', subplot=421)\n",
            "\n",
            "# We assume that we can set the solution interval to the duration of the scan.\n",
            "rmtables('g330_calibrators.G')\n",
            "gaincal(vis='g330_calibrators.ms', caltable='g330_calibrators.G', field='J1939-6342', refant='m010', gaintype='G', calmode='ap', solint='inf', combine='spw', append=False, minsnr=3, solnorm=False, gaintable=['g330_calibrators.B','g330_calibrators.K'], interp=['nearest', 'nearest'])\n",
            "plotcal(caltable='g330_calibrators.G', xaxis='time', yaxis='phase', field='J1939-6342', plotrange=[-1, -1, -180, 180])\n",
            "plotcal(caltable='g330_calibrators.G', xaxis='time', yaxis='amp', field='J1939-6342')\n",
            "plotcal(caltable='g330_calibrators.G', xaxis='time', yaxis='phase', field='J1939-6342', plotrange=[-1, -1, -180, 180], iteration='antennas', subplot=421)\n",
            "plotcal(caltable='g330_calibrators.G', xaxis='time', yaxis='amp', field='J1939-6342', iteration='antennas', subplot=421)\n",
            "applycal(vis='g330_calibrators.ms', field='J1939-6342', gaintable=['g330_calibrators.G','g330_calibrators.B','g330_calibrators.K'], gainfield=['J1939-6342','J1939-6342','J1939-6342'], interp=['nearest', 'nearest', 'nearest'], calwt=False, applymode='calflag')\n",
            "plotms(vis='g330_calibrators.ms', xaxis='chan', yaxis='phase', correlation='XX,YY', field='J1939-6342', ydatacolumn='corrected', avgtime='5200', averagedata=True, avgscan=True, avgbaseline=True, coloraxis='corr', plotrange=[0,0,-180,180])\n",
            "plotms(vis='g330_calibrators.ms', xaxis='chan', yaxis='amp', correlation='XX,YY', field='J1939-6342', ydatacolumn='corrected', avgtime='5200', averagedata=True, avgscan=True, avgbaseline=True, coloraxis='corr')\n",
            "plotms(vis='g330_calibrators.ms', xaxis='time', yaxis='amp', correlation='XX,YY', field='J1939-6342', ydatacolumn='corrected', avgchannel='4096', averagedata=True, avgscan=True, avgbaseline=True, coloraxis='corr')\n",
            "plotms(vis='g330_calibrators.ms', xaxis='time', yaxis='phase', correlation='XX,YY', field='J1939-6342', ydatacolumn='corrected', avgchannel='4096', averagedata=True, avgscan=True, avgbaseline=True, coloraxis='corr', plotrange=[0,0,-180,180])\n",
            "\n",
            "\n",
            "Complex gain, other calibrators\n",
            "# calculate temporary per dump gain corrections\n",
            "rmtables('g330_calibrators.G1')\n",
            "gaincal(vis='g330_calibrators.ms', caltable='g330_calibrators.G1', field='J1726-5529', refant='m010', gaintype='G', calmode='ap', solint='int', combine='spw', minsnr=3, solnorm=False, gaintable=['g330_calibrators.B','g330_calibrators.K'], interp=['nearest', 'nearest'])\n",
            "# phase and amp solutions over a scan must be flat for point sources\n",
            "plotcal(caltable='g330_calibrators.G1', xaxis='time', yaxis='phase', field='J1726-5529', plotrange=[-1, -1, -180, 180])\n",
            "plotcal(caltable='g330_calibrators.G1', xaxis='time', yaxis='amp', field='J1726-5529')\n",
            "plotcal(caltable='g330_calibrators.G1', xaxis='time', yaxis='phase', field='J1726-5529', plotrange=[-1, -1, -180, 180], iteration='antennas', subplot=421)\n",
            "plotcal(caltable='g330_calibrators.G1', xaxis='time', yaxis='amp', field='J1726-5529', iteration='antennas', subplot=421)\n",
            "\n",
            "# We assume that we can set the solution interval to the duration of the scan.\n",
            "gaincal(vis='g330_calibrators.ms', caltable='g330_calibrators.G', field='J1726-5529', refant='m010', gaintype='G', calmode='ap', solint='inf', combine='spw', append=True, minsnr=3, solnorm=False, gaintable=['g330_calibrators.B','g330_calibrators.K'], interp=['nearest', 'nearest'])\n",
            "plotcal(caltable='g330_calibrators.G', xaxis='time', yaxis='phase', field='J1726-5529', plotrange=[-1, -1, -180, 180])\n",
            "plotcal(caltable='g330_calibrators.G', xaxis='time', yaxis='amp', field='J1726-5529')\n",
            "plotcal(caltable='g330_calibrators.G', xaxis='time', yaxis='phase', field='J1726-5529', plotrange=[-1, -1, -180, 180], iteration='antennas', subplot=421)\n",
            "plotcal(caltable='g330_calibrators.G', xaxis='time', yaxis='amp', field='J1726-5529', iteration='antennas', subplot=421)\n",
            "applycal(vis='g330_calibrators.ms', field='J1726-5529', gaintable=['g330_calibrators.G','g330_calibrators.B','g330_calibrators.K'], gainfield=['J1726-5529','J1939-6342','J1939-6342'], interp=['nearest', 'nearest', 'nearest'], calwt=False, applymode='calflag')\n",
            "plotms(vis='g330_calibrators.ms', xaxis='chan', yaxis='phase', correlation='XX,YY', field='J1726-5529', ydatacolumn='corrected', avgtime='5200', averagedata=True, avgscan=True, avgbaseline=True, coloraxis='corr', plotrange=[0,0,-180,180])\n",
            "plotms(vis='g330_calibrators.ms', xaxis='chan', yaxis='amp', correlation='XX,YY', field='J1726-5529', ydatacolumn='corrected', avgtime='5200', averagedata=True, avgscan=True, avgbaseline=True, coloraxis='corr')\n",
            "plotms(vis='g330_calibrators.ms', xaxis='time', yaxis='amp', correlation='XX,YY', field='J1726-5529', ydatacolumn='corrected', avgchannel='4096', averagedata=True, avgscan=True, avgbaseline=True, coloraxis='corr')\n",
            "plotms(vis='g330_calibrators.ms', xaxis='time', yaxis='phase', correlation='XX,YY', field='J1726-5529', ydatacolumn='corrected', avgchannel='4096', averagedata=True, avgscan=True, avgbaseline=True, coloraxis='corr', plotrange=[0,0,-180,180])\n",
            "\n",
            "\n",
            "Flux calibration\n",
            "rmtables('g330_calibrators.F')\n",
            "# scales the gain on the secondary calibrator by the fluxscale\n",
            "fluxscale(vis='g330_calibrators.ms', caltable='g330_calibrators.G', fluxtable='g330_calibrators.F', reference='J1939-6342', transfer='J1726-5529')\n",
            "applycal(vis='g330_calibrators.ms', field='J1726-5529', gaintable=['g330_calibrators.F','g330_calibrators.B','g330_calibrators.K'], gainfield=['J1726-5529','J1939-6342','J1939-6342'], interp=['nearest', 'nearest', 'nearest'], calwt=False, applymode='calflag')\n",
            "applycal(vis='g330_calibrators.ms', field='J1726-5529', gaintable=['g330_calibrators.F','g330_calibrators.B','g330_calibrators.K'], gainfield=['J1726-5529','J1939-6342','J1939-6342'], interp=['linear', 'nearest', 'nearest'], calwt=False, applymode='calflag')\n",
            "plotms(vis='g330_calibrators.ms', xaxis='chan', yaxis='phase', correlation='XX,YY', ydatacolumn='corrected', avgtime='5200', averagedata=True, avgscan=True, avgbaseline=True, coloraxis='field')\n",
            "plotms(vis='g330_calibrators.ms', xaxis='chan', yaxis='amp', correlation='XX,YY', ydatacolumn='corrected', avgtime='5200', averagedata=True, avgscan=True, avgbaseline=True, coloraxis='field')\n",
            "plotms(vis='g330_calibrators.ms', xaxis='time', yaxis='amp', correlation='XX,YY', ydatacolumn='corrected', avgchannel='4096', averagedata=True, avgscan=True, avgbaseline=True, coloraxis='field')\n",
            "plotms(vis='g330_calibrators.ms', xaxis='time', yaxis='phase', correlation='XX,YY', ydatacolumn='corrected', avgchannel='4096', averagedata=True, avgscan=True, avgbaseline=True, coloraxis='field')\n",
            "\n",
            "\n",
            "# apply calibration solutions\n"
          ],
          "name": "stdout"
        },
        {
          "output_type": "error",
          "ename": "NameError",
          "evalue": "ignored",
          "traceback": [
            "\u001b[0;31m---------------------------------------------------------------------------\u001b[0m",
            "\u001b[0;31mNameError\u001b[0m                                 Traceback (most recent call last)",
            "\u001b[0;32m<ipython-input-21-fbbc27b4a911>\u001b[0m in \u001b[0;36m<module>\u001b[0;34m()\u001b[0m\n\u001b[1;32m     16\u001b[0m \u001b[0;31m# apply calibration\u001b[0m\u001b[0;34m\u001b[0m\u001b[0;34m\u001b[0m\u001b[0;34m\u001b[0m\u001b[0m\n\u001b[1;32m     17\u001b[0m \u001b[0mprint\u001b[0m\u001b[0;34m(\u001b[0m\u001b[0;34m'# apply calibration solutions'\u001b[0m\u001b[0;34m)\u001b[0m\u001b[0;34m\u001b[0m\u001b[0;34m\u001b[0m\u001b[0m\n\u001b[0;32m---> 18\u001b[0;31m applycal(vis=msfile,\n\u001b[0m\u001b[1;32m     19\u001b[0m              \u001b[0mfield\u001b[0m\u001b[0;34m=\u001b[0m\u001b[0mtarget\u001b[0m\u001b[0;34m,\u001b[0m\u001b[0;34m\u001b[0m\u001b[0;34m\u001b[0m\u001b[0m\n\u001b[1;32m     20\u001b[0m              \u001b[0mgaintable\u001b[0m\u001b[0;34m=\u001b[0m\u001b[0;34m[\u001b[0m\u001b[0mktable0\u001b[0m\u001b[0;34m,\u001b[0m \u001b[0mbtable1\u001b[0m\u001b[0;34m,\u001b[0m \u001b[0mftable1\u001b[0m\u001b[0;34m]\u001b[0m\u001b[0;34m,\u001b[0m\u001b[0;34m\u001b[0m\u001b[0;34m\u001b[0m\u001b[0m\n",
            "\u001b[0;31mNameError\u001b[0m: name 'applycal' is not defined"
          ]
        }
      ]
    },
    {
      "cell_type": "code",
      "metadata": {
        "id": "ptVX0OsCyZSs"
      },
      "source": [
        ""
      ],
      "execution_count": null,
      "outputs": []
    }
  ]
}