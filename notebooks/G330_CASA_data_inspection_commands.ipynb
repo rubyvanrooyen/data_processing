{
  "nbformat": 4,
  "nbformat_minor": 0,
  "metadata": {
    "colab": {
      "name": "G330 CASA data inspection commands.ipynb",
      "provenance": [],
      "collapsed_sections": [],
      "toc_visible": true,
      "authorship_tag": "ABX9TyOLSbaIYro+ejvjIavZfCYA",
      "include_colab_link": true
    },
    "kernelspec": {
      "name": "python3",
      "display_name": "Python 3"
    },
    "language_info": {
      "name": "python"
    }
  },
  "cells": [
    {
      "cell_type": "markdown",
      "metadata": {
        "id": "view-in-github",
        "colab_type": "text"
      },
      "source": [
        "<a href=\"https://colab.research.google.com/github/rubyvanrooyen/katcomm/blob/master/Users/ruby/oh_masers/G330/G330_CASA_data_inspection_commands.ipynb\" target=\"_parent\"><img src=\"https://colab.research.google.com/assets/colab-badge.svg\" alt=\"Open In Colab\"/></a>"
      ]
    },
    {
      "cell_type": "markdown",
      "metadata": {
        "id": "9YruoYKV97xE"
      },
      "source": [
        "# Standard flags\n",
        "\n",
        "https://casa.nrao.edu/docs/TaskRef/flagdata-task.html\n",
        "\n",
        "Apply standard flags to all data by default"
      ]
    },
    {
      "cell_type": "markdown",
      "metadata": {
        "id": "5vj1qtnTKY_8"
      },
      "source": [
        "Apply to all data sets\n",
        "* Remove any antennas shadowing each other\n",
        "```\n",
        "flagdata(vis=msfile, mode='shadow')\n",
        "```\n",
        "* Remove bad points that is below minimum pointing angle of observation\n",
        "```\n",
        "flagdata(vis=msfile, mode='elevation', lowerlimit=15., upperlimit=90., action='apply')\n",
        "```\n",
        "* Remove extreme outliers\n",
        "```\n",
        "flagdata(vis=msfile, mode='clip', clipminmax = [1e-5, 1000.0])\n",
        "```\n",
        "\n",
        "For MeerKAT L-band remove\n",
        "* bandpass edges and the Milky Way, as well as\n",
        "```\n",
        "flagdata(vis=msfile, mode='manual', spw='*:856~880MHz,*:1658~1800MHz,*:1420.0~1421.3MHz')\n",
        "```\n",
        "* known RFI channels\n",
        "\n",
        " * GSM and Aviation\n",
        "```\n",
        "flagdata(vis=msfile, mode='manual', spw='*:900MHz~915MHZ,*:925MHz~960MHZ,*:1080MHz~1095MHZ', action='apply')\n",
        "```\n",
        " * GPS\n",
        " ```\n",
        "flagdata(vis=msfile, mode='manual', spw='*:1166MHz~1186MHZ,*:1217MHz~1237MHZ,*:1375MHz~1387MHZ,*:1565MHz~1585MHZ', action='apply')\n",
        "```\n",
        " * GLONASS\n",
        "```\n",
        "flagdata(vis=msfile, mode='manual', spw='*:1242MHz~1249MHZ,*:1592MHz~1610MHZ', action='apply')\n",
        "```\n",
        " * Galileo\n",
        "```\n",
        "flagdata(vis=msfile, mode='manual', spw='*:1191MHz~1217MHZ,*:1260MHz~1300MHZ', action='apply')\n",
        "```\n",
        " * IRIDIUM\n",
        "```\n",
        "flagdata(vis=msfile, mode='manual', spw='*:1616MHz~1626MHZ', action='apply')\n",
        "```\n",
        " * Inmarsat\n",
        "```\n",
        "flagdata(vis=msfile, mode='manual', spw='*:1526MHz~1554MHZ', action='apply')\n",
        "```"
      ]
    },
    {
      "cell_type": "markdown",
      "metadata": {
        "id": "HYNslJW38L_o"
      },
      "source": [
        "# Inspection strategy\n",
        "\n",
        "* Standard flags for MeerKAT observation band\n",
        "* Channels affected by RFI (amp vs channel)\n",
        "* Instrumental errors (phase vs channel)\n",
        "* Bad data periods (amp/phase vs time)"
      ]
    },
    {
      "cell_type": "markdown",
      "metadata": {
        "id": "zk4yjqmYWG79"
      },
      "source": [
        "CASA plotms commands to inspect observation\n",
        "\n",
        "Inspecting the data, using plotms displays.\n",
        "\n",
        "https://casa.nrao.edu/docs/taskref/plotms-task.html"
      ]
    },
    {
      "cell_type": "markdown",
      "metadata": {
        "id": "8t7iaLMD-6Ab"
      },
      "source": [
        "## RFI affected channels\n",
        "\n",
        "Slice in time (look at all channels averaged over time)"
      ]
    },
    {
      "cell_type": "code",
      "metadata": {
        "id": "CQZDuPkm_wxs"
      },
      "source": [
        "# RFI contaminated channels\n",
        "# Use explicit names and times/frequencies\n",
        "# rather than channel and scan numbers or indices,\n",
        "# because you are extracting chunks/sections of the data so will not map to a general recipe for caracal\n",
        "def inspect_rfi(msfile, calibrator):\n",
        "    print(f\"plotms(vis='{msfile}', xaxis='freq', yaxis='amp', correlation='XX,YY', field='{calibrator}', avgtime='{dt}', averagedata=True, avgscan=True, avgbaseline=True, coloraxis='corr')\")\n",
        "    print(f\"plotms(vis='{msfile}', xaxis='freq', yaxis='amp', correlation='XX,YY', field='{calibrator}', avgtime='{dt}', averagedata=True, avgscan=True, avgbaseline=True, coloraxis='corr', plotrange=[{start_freq}, {stop_freq}, 0, 0])\")\n",
        "    print(f\"plotms(vis='{msfile}', xaxis='freq', yaxis='amp', correlation='XX,YY', field='{calibrator}', avgtime='{dt}', averagedata=True, avgscan=True, iteraxis='antenna', coloraxis='baseline')\")\n",
        "#    print(f\"plotms(vis='{msfile}', xaxis='channel', yaxis='amp', correlation='XX,YY', field='{calibrator}', scan='1', avgtime='{dt}', averagedata=True, avgbaseline=True, coloraxis='corr')\")\n"
      ],
      "execution_count": null,
      "outputs": []
    },
    {
      "cell_type": "markdown",
      "metadata": {
        "id": "w0z50KIH_xXQ"
      },
      "source": [
        "## Instrumental errors\n",
        "\n",
        "Slice in time (look at all channels averaged over time)"
      ]
    },
    {
      "cell_type": "code",
      "metadata": {
        "id": "xalrS8YW_w2k"
      },
      "source": [
        "# Use explicit names and times/frequencies\n",
        "# rather than channel and scan numbers or indices,\n",
        "# because you are extracting chunks/sections of the data so will not map to a general recipe for caracal\n",
        "def inspect_instrument(msfile, calibrator):\n",
        "    print(f\"plotms(vis='{msfile}', xaxis='frequency', yaxis='phase', correlation='XX,YY', field='{calibrator}', avgtime='{dt}', averagedata=True, avgscan=True, avgbaseline=True, coloraxis='corr')\")\n",
        "    print(f\"plotms(vis='{msfile}', xaxis='frequency', yaxis='phase', correlation='XX,YY', field='{calibrator}', avgtime='{dt}', averagedata=True, avgscan=True, coloraxis='baseline', plotrange=[{start_freq}, {stop_freq}, -180, 180])\")\n",
        "    print(f\"plotms(vis='{msfile}', xaxis='frequency', yaxis='phase', averagedata=True, avgtime='{dt}', correlation='XX', iteraxis='antenna', coloraxis='baseline')\")\n",
        "    print(f\"plotms(vis='{msfile}', xaxis='frequency', yaxis='phase', averagedata=True, avgtime='{dt}', correlation='YY', iteraxis='antenna', coloraxis='baseline')\")\n",
        "#    print(f\"plotms(vis='{msfile}', xaxis='channel', yaxis='phase', correlation='XX,YY', iteraxis='scan', coloraxis='baseline', averagedata=True, avgtime='{dt}')\")\n"
      ],
      "execution_count": null,
      "outputs": []
    },
    {
      "cell_type": "markdown",
      "metadata": {
        "id": "l3jxVNlCzxmD"
      },
      "source": [
        "Slice in frequency (look at all timestamps averaged over channel)"
      ]
    },
    {
      "cell_type": "code",
      "metadata": {
        "id": "Cc91RpAOz9iF"
      },
      "source": [
        "# Use explicit names and times/frequencies\n",
        "# rather than channel and scan numbers or indices,\n",
        "# because you are extracting chunks/sections of the data so will not map to a general recipe for caracal\n",
        "def inspect_obstime(msfile, calibrator):\n",
        "    print(f\"plotms(vis='{msfile}', xaxis='time', yaxis='amp', correlation='XX,YY', field='{calibrator}', avgchannel='{nchans}', averagedata=True, avgbaseline=True, coloraxis='corr')\")\n",
        "    print(f\"plotms(vis='{msfile}', xaxis='time', yaxis='amp', correlation='XX,YY', field='{calibrator}', coloraxis='corr', iteraxis='scan', averagedata=True, avgbaseline=True, avgchannel='{nchans}')\")\n",
        "    print(f\"plotms(vis='{msfile}', xaxis='time', yaxis='phase', correlation='XX,YY', field='{calibrator}', avgchannel='{nchans}', averagedata=True, iteraxis='antenna', coloraxis='corr', plotrange=[0, 0, -180, 180])\")\n",
        "    # print(f\"plotms(vis='{msfile}', xaxis='time', yaxis='phase', correlation='XX,YY', spw='*:9', field='{calibrator}', iteraxis='baseline', coloraxis='corr', plotrange=[0,0,-180,180])\")\n"
      ],
      "execution_count": null,
      "outputs": []
    },
    {
      "cell_type": "markdown",
      "metadata": {
        "id": "nHoZSf0uJAim"
      },
      "source": [
        "## Structure\n",
        "UV wave (look for structure -- compact/extended sources)"
      ]
    },
    {
      "cell_type": "code",
      "metadata": {
        "id": "LIDfa0mPEXiU"
      },
      "source": [
        "# Use explicit names and times/frequencies\n",
        "# rather than channel and scan numbers or indices,\n",
        "# because you are extracting chunks/sections of the data so will not map to a general recipe for caracal\n",
        "def inspect_compact(msfile, calibrator):\n",
        "    print(f\"plotms(vis='{msfile}', field='{calibrator}', xaxis='uvwave', yaxis='amp', correlation='XX,YY', spw='*:9', coloraxis='corr', iteraxis='antenna')\")\n",
        "    print(f\"plotms(vis='{msfile}', field='{calibrator}', xaxis='uvwave', yaxis='amp', correlation='XX,YY', coloraxis='corr', iteraxis='antenna')\")\n",
        "    print(f\"plotms(vis='{msfile}', field='{calibrator}', xaxis='uvwave', yaxis='amp', correlation='XX,YY', coloraxis='corr', averagedata=True, iteraxis='antenna')\")\n",
        "#    print(f\"plotms(vis='{msfile}', field='{calibrator}', xaxis='uvwave', yaxis='amp', correlation='XX,YY', coloraxis='corr', averagedata=True)\")\n",
        "#    print(f\"plotms(vis='{msfile}', field='{calibrator}', xaxis='uvwave', yaxis='amp', correlation='XX,YY', coloraxis='corr', iteraxis='baseline')\")\n",
        "#    print(f\"plotms(vis='{msfile}', field='{calibrator}', xaxis='uvwave', yaxis='amp', correlation='XX,YY', coloraxis='corr', iteraxis='scan')\")\n",
        "    print(f\"plotms(vis='{msfile}',xaxis='u',yaxis='v',field='{calibrator}',coloraxis='corr', correlation='XX,YY')\")\n"
      ],
      "execution_count": null,
      "outputs": []
    },
    {
      "cell_type": "markdown",
      "metadata": {
        "id": "vXIq7IIU8DVd"
      },
      "source": [
        "# Wideband observation"
      ]
    },
    {
      "cell_type": "markdown",
      "metadata": {
        "id": "_Y7B8PQBW8bO"
      },
      "source": [
        "```\n",
        "Targets: 3 selected out of 3 in catalogue\n",
        "  ID  Name          Type      RA(J2000)     DEC(J2000)  Tags\n",
        "   0  J1939-6342    radec     19:39:25.03  -63:42:45.6  fluxcal bpcal delaycal \n",
        "   1  G330.89-0.36  radec     16:10:20.54  -52:06:14.9  target  \n",
        "   2  J1726-5529    radec     17:26:49.63  -55:29:40.5  gaincal\n",
        "```"
      ]
    },
    {
      "cell_type": "markdown",
      "metadata": {
        "id": "a-GpvsbPZmOn"
      },
      "source": [
        "```\n",
        "Channel range -C 163,3885\n",
        "```\n",
        "\n",
        "```\n",
        "msfile = 'J1939-6342.ms'\n",
        "primary_cal = 'J1939-6342'\n",
        "listobs(msfile)\n",
        "```\n",
        "\n",
        "```\n",
        "Observed from   05-Jul-2021/16:17:26.2   to   05-Jul-2021/17:43:48.0 (UTC)\n",
        "Data records: 201300\n",
        "Total elapsed time = 5181.81 seconds\n",
        "\n",
        "ID   Code Name                RA               Decl           Epoch   SrcId      nRows\n",
        "0    T    J1939-6342          19:39:25.030000 -63.42.45.60000 J2000   0         201300\n",
        "\n",
        "SpwID  Name   #Chans   Frame   Ch0(MHz)  ChanWid(kHz)  TotBW(kHz) CtrFreq(MHz)  Corrs\n",
        "0      none    3723   TOPO     890.064       208.984    778048.8   1278.9844   XX  XY  YX  YY\n",
        "\n",
        "\n",
        "Date        Timerange (UTC)          Scan  FldId FieldName             nRows     SpwIds\n",
        "05-Jul-2021/16:17:26.2 - 16:27:18.0     1      0 J1939-6342              135420  [0]\n",
        "            17:39:00.2 - 17:43:48.0     2      0 J1939-6342               65880  [0]\n",
        "```\n",
        "\n",
        "```\n",
        "Observed from   05-Jul-2021/16:43:17.6   to   05-Jul-2021/17:38:28.2 (UTC)\n",
        "Data records: 109800\n",
        "Total elapsed time = 3310.6 seconds\n",
        "\n",
        "ID   Code Name                RA               Decl           Epoch   SrcId      nRows\n",
        "0    T    J1726-5529          17:26:49.630000 -55.29.40.50000 J2000   0         109800\n",
        "\n",
        "SpwID  Name   #Chans   Frame   Ch0(MHz)  ChanWid(kHz)  TotBW(kHz) CtrFreq(MHz)  Corrs\n",
        "0      none    3723   TOPO     890.064       208.984    778048.8   1278.9844   XX  XY  YX  YY\n",
        "\n",
        "\n",
        "Date        Timerange (UTC)          Scan  FldId FieldName             nRows     SpwIds\n",
        "05-Jul-2021/16:43:17.6 - 16:45:17.5     1      0 J1726-5529               27450  [0]\n",
        "            17:01:01.1 - 17:03:01.1     2      0 J1726-5529               27450  [0]\n",
        "            17:18:44.7 - 17:20:44.6     3      0 J1726-5529               27450  [0]\n",
        "            17:36:28.2 - 17:38:28.2     4      0 J1726-5529               27450  [0]\n",
        "```"
      ]
    },
    {
      "cell_type": "code",
      "metadata": {
        "id": "GA7wGbhnbOeZ"
      },
      "source": [
        "dt = 5200  # s\n",
        "nchans = 4096\n",
        "start_freq = 0.890064  # GHz\n",
        "stop_freq = 1.6681128  # GHz\n",
        "pb_start_idx = 163\n",
        "pb_end_idx = 3885"
      ],
      "execution_count": null,
      "outputs": []
    },
    {
      "cell_type": "markdown",
      "metadata": {
        "id": "XrZJ-8442nkx"
      },
      "source": [
        "## Primary calibrators"
      ]
    },
    {
      "cell_type": "code",
      "metadata": {
        "id": "1-AhDXLkrhUU",
        "colab": {
          "base_uri": "https://localhost:8080/"
        },
        "outputId": "944d7d74-f533-4852-f079-cafaf4783fc1"
      },
      "source": [
        "# flux calibrator\n",
        "msfile = 'J1939-6342.ms'\n",
        "calibrator = 'J1939-6342'\n",
        "inspect_rfi(msfile, calibrator)\n",
        "print()\n",
        "inspect_instrument(msfile, calibrator)\n",
        "print()\n",
        "inspect_obstime(msfile, calibrator)\n",
        "print()\n",
        "inspect_compact(msfile, calibrator)"
      ],
      "execution_count": null,
      "outputs": [
        {
          "output_type": "stream",
          "text": [
            "plotms(vis='J1939-6342.ms', xaxis='freq', yaxis='amp', correlation='XX,YY', field='J1939-6342', avgtime='5200', averagedata=True, avgscan=True, avgbaseline=True, coloraxis='corr')\n",
            "plotms(vis='J1939-6342.ms', xaxis='freq', yaxis='amp', correlation='XX,YY', field='J1939-6342', avgtime='5200', averagedata=True, avgscan=True, avgbaseline=True, coloraxis='corr', plotrange=[0.890064, 1.6681128, 0, 0])\n",
            "plotms(vis='J1939-6342.ms', xaxis='freq', yaxis='amp', correlation='XX,YY', field='J1939-6342', avgtime='5200', averagedata=True, avgscan=True, iteraxis='antenna', coloraxis='baseline')\n",
            "\n",
            "plotms(vis='J1939-6342.ms', xaxis='frequency', yaxis='phase', correlation='XX,YY', field='J1939-6342', avgtime='5200', averagedata=True, avgscan=True, avgbaseline=True, coloraxis='corr')\n",
            "plotms(vis='J1939-6342.ms', xaxis='frequency', yaxis='phase', correlation='XX,YY', field='J1939-6342', avgtime='5200', averagedata=True, avgscan=True, coloraxis='baseline', plotrange=[0.890064, 1.6681128, -180, 180])\n",
            "plotms(vis='J1939-6342.ms', xaxis='frequency', yaxis='phase', averagedata=True, avgtime='5200', correlation='XX', iteraxis='antenna', coloraxis='baseline')\n",
            "plotms(vis='J1939-6342.ms', xaxis='frequency', yaxis='phase', averagedata=True, avgtime='5200', correlation='YY', iteraxis='antenna', coloraxis='baseline')\n",
            "\n",
            "plotms(vis='J1939-6342.ms', xaxis='time', yaxis='amp', correlation='XX,YY', field='J1939-6342', avgchannel='4096', averagedata=True, avgbaseline=True, coloraxis='corr')\n",
            "plotms(vis='J1939-6342.ms', xaxis='time', yaxis='amp', correlation='XX,YY', field='J1939-6342', coloraxis='corr', iteraxis='scan', averagedata=True, avgbaseline=True, avgchannel='4096')\n",
            "plotms(vis='J1939-6342.ms', xaxis='time', yaxis='phase', correlation='XX,YY', field='J1939-6342', avgchannel='4096', averagedata=True, iteraxis='antenna', coloraxis='corr', plotrange=[0, 0, -180, 180])\n",
            "\n",
            "plotms(vis='J1939-6342.ms', field='J1939-6342', xaxis='uvwave', yaxis='amp', correlation='XX,YY', spw='*:9', coloraxis='corr', iteraxis='antenna')\n",
            "plotms(vis='J1939-6342.ms', field='J1939-6342', xaxis='uvwave', yaxis='amp', correlation='XX,YY', coloraxis='corr', iteraxis='antenna')\n",
            "plotms(vis='J1939-6342.ms', field='J1939-6342', xaxis='uvwave', yaxis='amp', correlation='XX,YY', coloraxis='corr', averagedata=True, iteraxis='antenna')\n",
            "plotms(vis='J1939-6342.ms',xaxis='u',yaxis='v',field='J1939-6342',coloraxis='corr', correlation='XX,YY')\n"
          ],
          "name": "stdout"
        }
      ]
    },
    {
      "cell_type": "code",
      "metadata": {
        "colab": {
          "base_uri": "https://localhost:8080/"
        },
        "id": "t_MBnKPG2zmv",
        "outputId": "affff334-30d3-4149-bfc8-a63ed5962af5"
      },
      "source": [
        "# manual flags calibrators\n",
        "# update this manually depending on the plots, using plotms tools to find frequency and time ranges\n",
        "print(f\"flagdata(vis='{msfile}', mode='manual', spw='*:1.1421GHz~1.16592GHZ', action='apply')\")\n",
        "print(f\"flagdata(vis='{msfile}', mode='manual', spw='*:1.1862GHz~1.25997GHZ', action='apply')\")\n",
        "print(f\"flagdata(vis='{msfile}', mode='manual', spw='*:1.52057GHz~1.59185GHZ,*:1.62632GHz', action='apply')\")\n",
        "print(f\"flagdata(vis='{msfile}', mode='manual', timerange='16:17:30~16:18:51', action='apply')\")\n",
        "print()\n",
        "print(f\"plotms(vis='{msfile}', field='{calibrator}', xaxis='uvwave', yaxis='amp', correlation='XX,YY', spw='*:9;3006', coloraxis='corr', iteraxis='antenna')\")\n",
        "print(f\"flagdata(vis='{msfile}', mode='manual', spw='*:1.51827GHz', action='apply')\")\n"
      ],
      "execution_count": null,
      "outputs": [
        {
          "output_type": "stream",
          "text": [
            "flagdata(vis='J1939-6342.ms', mode='manual', spw='*:1.1421GHz~1.16592GHZ', action='apply')\n",
            "flagdata(vis='J1939-6342.ms', mode='manual', spw='*:1.1862GHz~1.25997GHZ', action='apply')\n",
            "flagdata(vis='J1939-6342.ms', mode='manual', spw='*:1.52057GHz~1.59185GHZ,*:1.62632GHz', action='apply')\n",
            "flagdata(vis='J1939-6342.ms', mode='manual', timerange='16:17:30~16:18:51', action='apply')\n",
            "\n",
            "plotms(vis='J1939-6342.ms', field='J1939-6342', xaxis='uvwave', yaxis='amp', correlation='XX,YY', spw='*:9;3006', coloraxis='corr', iteraxis='antenna')\n",
            "flagdata(vis='J1939-6342.ms', mode='manual', spw='*:1.51827GHz', action='apply')\n"
          ],
          "name": "stdout"
        }
      ]
    },
    {
      "cell_type": "markdown",
      "metadata": {
        "id": "FVdVN_hE2v7n"
      },
      "source": [
        "## Secondary calibrators"
      ]
    },
    {
      "cell_type": "code",
      "metadata": {
        "id": "-s_CTaSTqACR",
        "colab": {
          "base_uri": "https://localhost:8080/"
        },
        "outputId": "ad02a1ed-d816-41da-9da5-d8ac6fb2d627"
      },
      "source": [
        "# gain calibrator\n",
        "msfile = 'J1726-5529.ms'\n",
        "calibrator = 'J1726-5529'\n",
        "inspect_rfi(msfile, calibrator)\n",
        "print()\n",
        "inspect_instrument(msfile, calibrator)\n",
        "print()\n",
        "inspect_obstime(msfile, calibrator)\n",
        "print()\n",
        "inspect_compact(msfile, calibrator)"
      ],
      "execution_count": null,
      "outputs": [
        {
          "output_type": "stream",
          "text": [
            "plotms(vis='J1726-5529.ms', xaxis='freq', yaxis='amp', correlation='XX,YY', field='J1726-5529', avgtime='5200', averagedata=True, avgscan=True, avgbaseline=True, coloraxis='corr')\n",
            "plotms(vis='J1726-5529.ms', xaxis='freq', yaxis='amp', correlation='XX,YY', field='J1726-5529', avgtime='5200', averagedata=True, avgscan=True, avgbaseline=True, coloraxis='corr', plotrange=[0.890064, 1.6681128, 0, 0])\n",
            "plotms(vis='J1726-5529.ms', xaxis='freq', yaxis='amp', correlation='XX,YY', field='J1726-5529', avgtime='5200', averagedata=True, avgscan=True, iteraxis='antenna', coloraxis='baseline')\n",
            "\n",
            "plotms(vis='J1726-5529.ms', xaxis='frequency', yaxis='phase', correlation='XX,YY', field='J1726-5529', avgtime='5200', averagedata=True, avgscan=True, avgbaseline=True, coloraxis='corr')\n",
            "plotms(vis='J1726-5529.ms', xaxis='frequency', yaxis='phase', correlation='XX,YY', field='J1726-5529', avgtime='5200', averagedata=True, avgscan=True, coloraxis='baseline', plotrange=[0.890064, 1.6681128, -180, 180])\n",
            "plotms(vis='J1726-5529.ms', xaxis='frequency', yaxis='phase', averagedata=True, avgtime='5200', correlation='XX', iteraxis='antenna', coloraxis='baseline')\n",
            "plotms(vis='J1726-5529.ms', xaxis='frequency', yaxis='phase', averagedata=True, avgtime='5200', correlation='YY', iteraxis='antenna', coloraxis='baseline')\n",
            "\n",
            "plotms(vis='J1726-5529.ms', xaxis='time', yaxis='amp', correlation='XX,YY', field='J1726-5529', avgchannel='4096', averagedata=True, avgbaseline=True, coloraxis='corr')\n",
            "plotms(vis='J1726-5529.ms', xaxis='time', yaxis='amp', correlation='XX,YY', field='J1726-5529', coloraxis='corr', iteraxis='scan', averagedata=True, avgbaseline=True, avgchannel='4096')\n",
            "plotms(vis='J1726-5529.ms', xaxis='time', yaxis='phase', correlation='XX,YY', field='J1726-5529', avgchannel='4096', averagedata=True, iteraxis='antenna', coloraxis='corr', plotrange=[0, 0, -180, 180])\n",
            "\n",
            "plotms(vis='J1726-5529.ms', field='J1726-5529', xaxis='uvwave', yaxis='amp', correlation='XX,YY', spw='*:9', coloraxis='corr', iteraxis='antenna')\n",
            "plotms(vis='J1726-5529.ms', field='J1726-5529', xaxis='uvwave', yaxis='amp', correlation='XX,YY', coloraxis='corr', iteraxis='antenna')\n",
            "plotms(vis='J1726-5529.ms', field='J1726-5529', xaxis='uvwave', yaxis='amp', correlation='XX,YY', coloraxis='corr', averagedata=True, iteraxis='antenna')\n",
            "plotms(vis='J1726-5529.ms',xaxis='u',yaxis='v',field='J1726-5529',coloraxis='corr', correlation='XX,YY')\n"
          ],
          "name": "stdout"
        }
      ]
    },
    {
      "cell_type": "code",
      "metadata": {
        "id": "NVwK0pDwrhSG",
        "colab": {
          "base_uri": "https://localhost:8080/"
        },
        "outputId": "be2bef41-392a-45b7-f6e8-f071bce4e46c"
      },
      "source": [
        "# manual flags calibrators\n",
        "# update this manually depending on the plots, using plotms tools to find frequency and time ranges\n",
        "print(f\"flagdata(vis='{msfile}', mode='manual', spw='*:1.1421GHz~1.16592GHZ', action='apply')\")\n",
        "print(f\"flagdata(vis='{msfile}', mode='manual', spw='*:1.1862GHz~1.25997GHZ', action='apply')\")\n",
        "print(f\"flagdata(vis='{msfile}', mode='manual', spw='*:1.52057GHz~1.59185GHZ,*:1.62632GHz', action='apply')\")"
      ],
      "execution_count": null,
      "outputs": [
        {
          "output_type": "stream",
          "text": [
            "flagdata(vis='J1726-5529.ms', mode='manual', spw='*:1.1421GHz~1.16592GHZ', action='apply')\n",
            "flagdata(vis='J1726-5529.ms', mode='manual', spw='*:1.1862GHz~1.25997GHZ', action='apply')\n",
            "flagdata(vis='J1726-5529.ms', mode='manual', spw='*:1.52057GHz~1.59185GHZ,*:1.62632GHz', action='apply')\n"
          ],
          "name": "stdout"
        }
      ]
    },
    {
      "cell_type": "markdown",
      "metadata": {
        "id": "qsU49SJEJ6kX"
      },
      "source": [
        "## Maser\n",
        "\n",
        "Masers are point like targets"
      ]
    },
    {
      "cell_type": "code",
      "metadata": {
        "id": "l-5ohH3bbOoS",
        "colab": {
          "base_uri": "https://localhost:8080/"
        },
        "outputId": "b453a09f-30c2-47ec-c6ba-52ad3961747e"
      },
      "source": [
        "msfile = 'G330.89-0.36.ms'\n",
        "target = 'G330.89-0.36'\n",
        "inspect_rfi(msfile, target)\n",
        "print()\n",
        "inspect_instrument(msfile, target)\n",
        "print()\n",
        "inspect_obstime(msfile, target)\n",
        "print()\n",
        "inspect_compact(msfile, target)"
      ],
      "execution_count": null,
      "outputs": [
        {
          "output_type": "stream",
          "text": [
            "plotms(vis='G330.89-0.36.ms', xaxis='freq', yaxis='amp', correlation='XX,YY', field='G330.89-0.36', avgtime='5200', averagedata=True, avgscan=True, avgbaseline=True, coloraxis='corr')\n",
            "plotms(vis='G330.89-0.36.ms', xaxis='freq', yaxis='amp', correlation='XX,YY', field='G330.89-0.36', avgtime='5200', averagedata=True, avgscan=True, avgbaseline=True, coloraxis='corr', plotrange=[0.890064, 1.6681128, 0, 0])\n",
            "plotms(vis='G330.89-0.36.ms', xaxis='freq', yaxis='amp', correlation='XX,YY', field='G330.89-0.36', avgtime='5200', averagedata=True, avgscan=True, iteraxis='antenna', coloraxis='baseline')\n",
            "\n",
            "plotms(vis='G330.89-0.36.ms', xaxis='frequency', yaxis='phase', correlation='XX,YY', field='G330.89-0.36', avgtime='5200', averagedata=True, avgscan=True, avgbaseline=True, coloraxis='corr')\n",
            "plotms(vis='G330.89-0.36.ms', xaxis='frequency', yaxis='phase', correlation='XX,YY', field='G330.89-0.36', avgtime='5200', averagedata=True, avgscan=True, coloraxis='baseline', plotrange=[0.890064, 1.6681128, -180, 180])\n",
            "plotms(vis='G330.89-0.36.ms', xaxis='frequency', yaxis='phase', averagedata=True, avgtime='5200', correlation='XX', iteraxis='antenna', coloraxis='baseline')\n",
            "plotms(vis='G330.89-0.36.ms', xaxis='frequency', yaxis='phase', averagedata=True, avgtime='5200', correlation='YY', iteraxis='antenna', coloraxis='baseline')\n",
            "\n",
            "plotms(vis='G330.89-0.36.ms', xaxis='time', yaxis='amp', correlation='XX,YY', field='G330.89-0.36', avgchannel='4096', averagedata=True, avgbaseline=True, coloraxis='corr')\n",
            "plotms(vis='G330.89-0.36.ms', xaxis='time', yaxis='amp', correlation='XX,YY', field='G330.89-0.36', coloraxis='corr', iteraxis='scan', averagedata=True, avgbaseline=True, avgchannel='4096')\n",
            "plotms(vis='G330.89-0.36.ms', xaxis='time', yaxis='phase', correlation='XX,YY', field='G330.89-0.36', avgchannel='4096', averagedata=True, iteraxis='antenna', coloraxis='corr', plotrange=[0, 0, -180, 180])\n",
            "\n",
            "plotms(vis='G330.89-0.36.ms', field='G330.89-0.36', xaxis='uvwave', yaxis='amp', correlation='XX,YY', spw='*:9', coloraxis='corr', iteraxis='antenna')\n",
            "plotms(vis='G330.89-0.36.ms', field='G330.89-0.36', xaxis='uvwave', yaxis='amp', correlation='XX,YY', coloraxis='corr', iteraxis='antenna')\n",
            "plotms(vis='G330.89-0.36.ms', field='G330.89-0.36', xaxis='uvwave', yaxis='amp', correlation='XX,YY', coloraxis='corr', averagedata=True, iteraxis='antenna')\n",
            "plotms(vis='G330.89-0.36.ms',xaxis='u',yaxis='v',field='G330.89-0.36',coloraxis='corr', correlation='XX,YY')\n"
          ],
          "name": "stdout"
        }
      ]
    },
    {
      "cell_type": "markdown",
      "metadata": {
        "id": "EpSyBvJlAYya"
      },
      "source": [
        "# Verifying calibration results and inspection for further flagging"
      ]
    },
    {
      "cell_type": "code",
      "metadata": {
        "id": "mY8jXWJXweuy"
      },
      "source": [
        "def cal_verification_plots(msfile, calib):\n",
        "    ref_chans = '*:2000~3000'  # '*:2100~2300'\n",
        "    print(f\"plotms(vis='{msfile}', xaxis='real', yaxis='imag', correlation='XX,YY', xdatacolumn='corrected', ydatacolumn='corrected', field='{calib}', avgscan=False, coloraxis='scan')\")\n",
        "    # ignore results influenced by unflagged RFI channels, only focus on good channel range\n",
        "    print(f\"plotms(vis='{msfile}', xaxis='real', yaxis='imag', correlation='XX,YY', xdatacolumn='corrected', ydatacolumn='corrected', field='{calib}', avgscan=False, coloraxis='scan', spw='{ref_chans}')\")\n",
        "\n",
        "    print(f\"plotms(vis='{msfile}', xaxis='phase', yaxis='amp', correlation='XX,YY', xdatacolumn='corrected', ydatacolumn='corrected', field='{calib}', avgscan=False, coloraxis='corr')\")\n",
        "    # ignore results influenced by unflagged RFI channels, only focus on good channel range\n",
        "    print(f\"plotms(vis='{msfile}', xaxis='phase', yaxis='amp', correlation='XX,YY', xdatacolumn='corrected', ydatacolumn='corrected', field='{calib}', avgscan=False, coloraxis='corr', spw='{ref_chans}')\")\n",
        "\n",
        "    print(f\"plotms(vis='{msfile}', xaxis='baseline', yaxis='amp', correlation='XX,YY', xdatacolumn='corrected', ydatacolumn='corrected', field='{calib}', avgscan=False, coloraxis='corr')\")\n",
        "    # ignore results influenced by unflagged RFI channels, only focus on good channel range\n",
        "    print(f\"plotms(vis='{msfile}', xaxis='baseline', yaxis='amp', correlation='XX,YY', xdatacolumn='corrected', ydatacolumn='corrected', field='{calib}', avgscan=False, coloraxis='corr', spw='{ref_chans}')\")\n",
        "\n",
        "    print(f\"plotms(vis='{msfile}', xaxis='uvdist', yaxis='amp', correlation='XX,YY', xdatacolumn='corrected', ydatacolumn='corrected', field='{calib}', avgscan=False, coloraxis='corr')\")\n",
        "    # ignore results influenced by unflagged RFI channels, only focus on good channel range\n",
        "    print(f\"plotms(vis='{msfile}', xaxis='uvdist', yaxis='amp', correlation='XX,YY', xdatacolumn='corrected', ydatacolumn='corrected', field='{calib}', avgscan=False, coloraxis='corr', spw='{ref_chans}')\")\n",
        "\n",
        "    print(f\"plotms(vis='{msfile}', xaxis='uvwave', yaxis='amp', correlation='XX,YY', xdatacolumn='corrected', ydatacolumn='corrected', field='{calib}', avgscan=False, coloraxis='corr')\")\n",
        "    # ignore results influenced by unflagged RFI channels, only focus on good channel range\n",
        "    print(f\"plotms(vis='{msfile}', xaxis='uvwave', yaxis='amp', correlation='XX,YY', xdatacolumn='corrected', ydatacolumn='corrected', field='{calib}', avgscan=False, coloraxis='corr', spw='{ref_chans}')\")\n",
        "\n",
        "    print(f\"plotms(vis='{msfile}', xaxis='uvwave', yaxis='phase', correlation='XX,YY', xdatacolumn='corrected', ydatacolumn='corrected', field='{calib}', avgscan=False, coloraxis='corr')\")\n",
        "    # ignore results influenced by unflagged RFI channels, only focus on good channel range\n",
        "    print(f\"plotms(vis='{msfile}', xaxis='uvwave', yaxis='phase', correlation='XX,YY', xdatacolumn='corrected', ydatacolumn='corrected', field='{calib}', avgscan=False, coloraxis='corr', spw='{ref_chans}')\")\n"
      ],
      "execution_count": null,
      "outputs": []
    },
    {
      "cell_type": "code",
      "metadata": {
        "id": "5Mgjk3gaAbP0",
        "colab": {
          "base_uri": "https://localhost:8080/"
        },
        "outputId": "7bbfe10f-752a-4421-dec5-720fddebaaa3"
      },
      "source": [
        "print('For point sources the plots should be tight balls and flat lines')\n",
        "print('If the source is slightly resolved you will see structure in the plots')\n",
        "msfile = 'g330_calibrators.ms'\n",
        "primary_cal = 'J1939-6342'  # delay_cal, flux_cal, bp_cal\n",
        "cal_verification_plots(msfile, primary_cal)\n",
        "print()\n",
        "secondary_cal = 'J1726-5529'  # gain_cal\n",
        "cal_verification_plots(msfile, secondary_cal)"
      ],
      "execution_count": null,
      "outputs": [
        {
          "output_type": "stream",
          "text": [
            "plotms(vis='g330_calibrators.ms', xaxis='real', yaxis='imag', correlation='XX,YY', xdatacolumn='corrected', ydatacolumn='corrected', field='J1939-6342', avgscan=False, coloraxis='scan')\n",
            "plotms(vis='g330_calibrators.ms', xaxis='real', yaxis='imag', correlation='XX,YY', xdatacolumn='corrected', ydatacolumn='corrected', field='J1939-6342', avgscan=False, coloraxis='scan', spw='*:2000~3000')\n",
            "plotms(vis='g330_calibrators.ms', xaxis='phase', yaxis='amp', correlation='XX,YY', xdatacolumn='corrected', ydatacolumn='corrected', field='J1939-6342', avgscan=False, coloraxis='corr')\n",
            "plotms(vis='g330_calibrators.ms', xaxis='phase', yaxis='amp', correlation='XX,YY', xdatacolumn='corrected', ydatacolumn='corrected', field='J1939-6342', avgscan=False, coloraxis='corr', spw='*:2000~3000')\n",
            "plotms(vis='g330_calibrators.ms', xaxis='baseline', yaxis='amp', correlation='XX,YY', xdatacolumn='corrected', ydatacolumn='corrected', field='J1939-6342', avgscan=False, coloraxis='corr')\n",
            "plotms(vis='g330_calibrators.ms', xaxis='baseline', yaxis='amp', correlation='XX,YY', xdatacolumn='corrected', ydatacolumn='corrected', field='J1939-6342', avgscan=False, coloraxis='corr', spw='*:2000~3000')\n",
            "plotms(vis='g330_calibrators.ms', xaxis='uvdist', yaxis='amp', correlation='XX,YY', xdatacolumn='corrected', ydatacolumn='corrected', field='J1939-6342', avgscan=False, coloraxis='corr')\n",
            "plotms(vis='g330_calibrators.ms', xaxis='uvdist', yaxis='amp', correlation='XX,YY', xdatacolumn='corrected', ydatacolumn='corrected', field='J1939-6342', avgscan=False, coloraxis='corr', spw='*:2000~3000')\n",
            "plotms(vis='g330_calibrators.ms', xaxis='uvwave', yaxis='amp', correlation='XX,YY', xdatacolumn='corrected', ydatacolumn='corrected', field='J1939-6342', avgscan=False, coloraxis='corr')\n",
            "plotms(vis='g330_calibrators.ms', xaxis='uvwave', yaxis='amp', correlation='XX,YY', xdatacolumn='corrected', ydatacolumn='corrected', field='J1939-6342', avgscan=False, coloraxis='corr', spw='*:2000~3000')\n",
            "plotms(vis='g330_calibrators.ms', xaxis='uvwave', yaxis='phase', correlation='XX,YY', xdatacolumn='corrected', ydatacolumn='corrected', field='J1939-6342', avgscan=False, coloraxis='corr')\n",
            "plotms(vis='g330_calibrators.ms', xaxis='uvwave', yaxis='phase', correlation='XX,YY', xdatacolumn='corrected', ydatacolumn='corrected', field='J1939-6342', avgscan=False, coloraxis='corr', spw='*:2000~3000')\n",
            "\n",
            "plotms(vis='g330_calibrators.ms', xaxis='real', yaxis='imag', correlation='XX,YY', xdatacolumn='corrected', ydatacolumn='corrected', field='J1726-5529', avgscan=False, coloraxis='scan')\n",
            "plotms(vis='g330_calibrators.ms', xaxis='real', yaxis='imag', correlation='XX,YY', xdatacolumn='corrected', ydatacolumn='corrected', field='J1726-5529', avgscan=False, coloraxis='scan', spw='*:2000~3000')\n",
            "plotms(vis='g330_calibrators.ms', xaxis='phase', yaxis='amp', correlation='XX,YY', xdatacolumn='corrected', ydatacolumn='corrected', field='J1726-5529', avgscan=False, coloraxis='corr')\n",
            "plotms(vis='g330_calibrators.ms', xaxis='phase', yaxis='amp', correlation='XX,YY', xdatacolumn='corrected', ydatacolumn='corrected', field='J1726-5529', avgscan=False, coloraxis='corr', spw='*:2000~3000')\n",
            "plotms(vis='g330_calibrators.ms', xaxis='baseline', yaxis='amp', correlation='XX,YY', xdatacolumn='corrected', ydatacolumn='corrected', field='J1726-5529', avgscan=False, coloraxis='corr')\n",
            "plotms(vis='g330_calibrators.ms', xaxis='baseline', yaxis='amp', correlation='XX,YY', xdatacolumn='corrected', ydatacolumn='corrected', field='J1726-5529', avgscan=False, coloraxis='corr', spw='*:2000~3000')\n",
            "plotms(vis='g330_calibrators.ms', xaxis='uvdist', yaxis='amp', correlation='XX,YY', xdatacolumn='corrected', ydatacolumn='corrected', field='J1726-5529', avgscan=False, coloraxis='corr')\n",
            "plotms(vis='g330_calibrators.ms', xaxis='uvdist', yaxis='amp', correlation='XX,YY', xdatacolumn='corrected', ydatacolumn='corrected', field='J1726-5529', avgscan=False, coloraxis='corr', spw='*:2000~3000')\n",
            "plotms(vis='g330_calibrators.ms', xaxis='uvwave', yaxis='amp', correlation='XX,YY', xdatacolumn='corrected', ydatacolumn='corrected', field='J1726-5529', avgscan=False, coloraxis='corr')\n",
            "plotms(vis='g330_calibrators.ms', xaxis='uvwave', yaxis='amp', correlation='XX,YY', xdatacolumn='corrected', ydatacolumn='corrected', field='J1726-5529', avgscan=False, coloraxis='corr', spw='*:2000~3000')\n",
            "plotms(vis='g330_calibrators.ms', xaxis='uvwave', yaxis='phase', correlation='XX,YY', xdatacolumn='corrected', ydatacolumn='corrected', field='J1726-5529', avgscan=False, coloraxis='corr')\n",
            "plotms(vis='g330_calibrators.ms', xaxis='uvwave', yaxis='phase', correlation='XX,YY', xdatacolumn='corrected', ydatacolumn='corrected', field='J1726-5529', avgscan=False, coloraxis='corr', spw='*:2000~3000')\n"
          ],
          "name": "stdout"
        }
      ]
    },
    {
      "cell_type": "code",
      "metadata": {
        "id": "03WVYOi1HbDi"
      },
      "source": [
        ""
      ],
      "execution_count": null,
      "outputs": []
    },
    {
      "cell_type": "markdown",
      "metadata": {
        "id": "vZatAXXzd5QT"
      },
      "source": [
        "## Target calibration and inspection\n"
      ]
    },
    {
      "cell_type": "code",
      "metadata": {
        "id": "2z49Q4MXd_o4"
      },
      "source": [
        ""
      ],
      "execution_count": null,
      "outputs": []
    },
    {
      "cell_type": "markdown",
      "metadata": {
        "id": "RdnLVlOOIxyY"
      },
      "source": [
        "# Narrow band observation"
      ]
    },
    {
      "cell_type": "markdown",
      "metadata": {
        "id": "TjSCz4Q-Yhg8"
      },
      "source": [
        "`listobs(msfile)`\n",
        "\n",
        "```\n",
        "Observed from   05-Jul-2021/16:17:34.3   to   05-Jul-2021/17:43:47.7 (UTC)\n",
        "Data records: 188490\n",
        "Total elapsed time = 5173.34 seconds\n",
        "\n",
        "ID   Code Name                RA               Decl           Epoch   SrcId      nRows\n",
        "0    T    J1939-6342          19:39:25.030000 -63.42.45.60000 J2000   0         188490\n",
        "\n",
        "SpwID  Name   #Chans   Frame   Ch0(MHz)  ChanWid(kHz)  TotBW(kHz) CtrFreq(MHz)  Corrs\n",
        "0      none   32768   TOPO    1639.250         1.633     53500.0   1665.9992   XX  XY  YX  YY\n",
        "\n",
        "\n",
        "Date        Timerange (UTC)          Scan  FldId FieldName             nRows     SpwIds\n",
        "05-Jul-2021/16:17:34.3 - 16:27:18.6     1      0 J1939-6342              126270  [0]\n",
        "            17:38:59.8 - 17:43:47.7     2      0 J1939-6342               62220  [0]\n",
        "```"
      ]
    },
    {
      "cell_type": "markdown",
      "metadata": {
        "id": "X-PQNWPjZSCh"
      },
      "source": [
        "```\n",
        "OH line 1665.402 MHz in channel 16018\n",
        "OH line 1667.359 MHz in channel 17216\n",
        "Extracing frequency range from 1659.99972 MHz to 1669.99988 MHz, covering 10.00016 MHz over 6125 channels\n",
        "Channel range -C 12709,18834\n",
        "Line velocity width of 3 km/s over 11.0 channels (3.232 km/s)\n",
        "```"
      ]
    },
    {
      "cell_type": "code",
      "metadata": {
        "id": "Mn3fO_Xs_8u2"
      },
      "source": [
        ""
      ],
      "execution_count": null,
      "outputs": []
    },
    {
      "cell_type": "code",
      "metadata": {
        "id": "aFqvaBbABpna"
      },
      "source": [
        "flagdata(vis=msfile, mode='manual', scan='51', flagbackup=False)\n",
        "flagdata(vis=msfile, mode='manual', antenna='m023,m038,m062', flagbackup=False)\n",
        "flagdata(vis=msfile, mode='manual', field='J0408-6545', antenna='m016', flagbackup=False)\n"
      ],
      "execution_count": null,
      "outputs": []
    }
  ]
}